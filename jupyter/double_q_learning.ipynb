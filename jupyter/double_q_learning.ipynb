{
 "cells": [
  {
   "cell_type": "code",
   "execution_count": 153,
   "metadata": {},
   "outputs": [],
   "source": [
    "# https://pytorch.org/tutorials/intermediate/reinforcement_q_learning.html\n",
    "\n",
    "import torch\n",
    "import torch.nn as nn\n",
    "import torch.optim as optim\n",
    "import torch.nn.functional as F\n",
    "# from torch.optim.lr_scheduler import StepLR"
   ]
  },
  {
   "cell_type": "code",
   "execution_count": 154,
   "metadata": {},
   "outputs": [],
   "source": [
    "import math\n",
    "import copy\n",
    "import time\n",
    "import random\n",
    "from dataclasses import dataclass"
   ]
  },
  {
   "cell_type": "code",
   "execution_count": 155,
   "metadata": {},
   "outputs": [],
   "source": [
    "from algo.dynamicProgramming import dynamicPlayer\n",
    "from algo.iplayer import RandomPlayer, IPlayer\n",
    "from algo.q_learning import QLearning\n",
    "from algo.board import Board, GameState, MoveResult"
   ]
  },
  {
   "cell_type": "code",
   "execution_count": 156,
   "metadata": {},
   "outputs": [
    {
     "data": {
      "text/plain": [
       "device(type='cpu')"
      ]
     },
     "execution_count": 156,
     "metadata": {},
     "output_type": "execute_result"
    }
   ],
   "source": [
    "device = torch.device(\n",
    "    # \"cuda\" if torch.cuda.is_available() else\n",
    "    # \"mps\" if torch.backends.mps.is_available() else\n",
    "    \"cpu\"\n",
    ")\n",
    "device"
   ]
  },
  {
   "cell_type": "code",
   "execution_count": 157,
   "metadata": {},
   "outputs": [],
   "source": [
    "DEPLOYMENT_SIGN = -1\n",
    "\n",
    "class DQN(nn.Module):\n",
    "\t\"\"\"\n",
    "\tUsing structure similar to NNUE:\n",
    "\thttps://www.chessprogramming.org/File:StockfishNNUELayers.png\n",
    "\t\n",
    "\tObservation space: hot-encoded board:\n",
    "\tfor each of 18 cells we can be -2, -1, 0, 1, 2 (5 possibilities).\n",
    "\tIn total it gives 18 * 5 = 90 possible inputs, out of which at most 12 are on.\n",
    "\t\n",
    "\t# Action space: 4 possible actions.\n",
    "\tValue function: 1 output. # https://www.reddit.com/r/reinforcementlearning/comments/1b1te73/help_me_understand_why_use_a_policy_net_instead/\n",
    "\t\"\"\"\n",
    "\n",
    "\tdef __init__(self):\n",
    "\t\tsuper(DQN, self).__init__()\n",
    "\n",
    "\t\tlayer_sizes = [\n",
    "\t\t\t90,\n",
    "\t\t\t50,\n",
    "\t\t\t50,\n",
    "\t\t\t1\n",
    "\t\t]\n",
    "\n",
    "\t\tlayers = []\n",
    "\t\tprev_size = layer_sizes[0]\n",
    "\t\tfor cur_size in layer_sizes[1:]:\n",
    "\t\t\tlayer = nn.Linear(prev_size, cur_size)\n",
    "\t\t\t# nn.init.kaiming_uniform(layer.weight, nonlinearity='relu')\n",
    "\t\t\tlayers.append(layer)\n",
    "\t\t\tprev_size = cur_size\n",
    "\n",
    "\t\tself.layers = nn.ModuleList(layers)\n",
    "\n",
    "\tdef forward(self, board: Board) -> torch.Tensor:\n",
    "\t\tstate = board.to_tensor(\n",
    "\t\t\tdevice,\n",
    "\t\t\tboard.turn_sign != DEPLOYMENT_SIGN\n",
    "\t\t)\n",
    "\t\tfor layer in self.layers[:-1]:\n",
    "\t\t\tstate = F.relu(layer(state))\n",
    "\t\treturn self.layers[-1](state)"
   ]
  },
  {
   "cell_type": "code",
   "execution_count": 158,
   "metadata": {},
   "outputs": [],
   "source": [
    "def move_result_to_reward(move_result: MoveResult) -> float:\n",
    "    return move_result.captured + move_result.promoted * 2\n",
    "\n",
    "def state_to_reward(state: Board) -> float:\n",
    "\treturn -2 * (state.moves_since_last_capture > 4)"
   ]
  },
  {
   "cell_type": "code",
   "execution_count": 159,
   "metadata": {},
   "outputs": [],
   "source": [
    "GAMMA = 0.99 # discount rate\n",
    "\n",
    "@dataclass\n",
    "class Action:\n",
    "\taction: tuple[tuple[int, int], tuple[int, int]]\n",
    "\tvalue: torch.Tensor\n",
    "\n",
    "def q_s(dqn: DQN, current_state: Board) -> list[Action]:\n",
    "\t\"\"\"\n",
    "\tReturn: list[(new_state, action, immediate_reward, value)]\n",
    "\t\"\"\"\n",
    "\tret: list[Action] = []\n",
    "\tfor s in current_state.get_possible_pos():\n",
    "\t\tfor e in current_state.get_correct_moves(s):\n",
    "\t\t\tnext_state = copy.deepcopy(current_state)\n",
    "\t\t\timmediate_reward = torch.tensor([\n",
    "\t\t\t\tmove_result_to_reward(next_state.make_move(s, e)) + \n",
    "\t\t\t\tstate_to_reward(next_state)\n",
    "\t\t\t], device=device)\n",
    "\t\t\tvalue = dqn(next_state) * GAMMA + immediate_reward\n",
    "\t\t\tret.append(Action((s, e), value))\n",
    "\treturn ret"
   ]
  },
  {
   "cell_type": "code",
   "execution_count": 160,
   "metadata": {},
   "outputs": [],
   "source": [
    "BATCH_SIZE = 128 # number of transitions sampled from the replay buffer\n",
    "\n",
    "EPS_START = 0.05001 # exploration rate\n",
    "EPS_END = 0.05\n",
    "EPS_DECAY = 1000\n",
    "TAU = 0.006 # update rate\n",
    "LR = 1e-4 # AdamW learning rate\n",
    "\n",
    "steps_done = 0\n",
    "\n",
    "def select_action(dqn: DQN, board: Board) -> Action:\n",
    "\tglobal steps_done\n",
    "\tsample = random.random()\n",
    "\teps_threshold = EPS_END + (EPS_START - EPS_END) * \\\n",
    "\t\tmath.exp(-1. * steps_done / EPS_DECAY)\n",
    "\tsteps_done += 1\n",
    "\n",
    "\tif sample > eps_threshold:\n",
    "\t\twith torch.no_grad():\n",
    "\t\t\tstate_values = q_s(dqn, board)\n",
    "\t\t\treturn max(state_values, key=lambda x: x.value.item())\n",
    "\t\t\t\t\t\n",
    "\telse:\n",
    "\t\tpossible_moves = []\n",
    "\t\tfor s in board.get_possible_pos():\n",
    "\t\t\tfor e in board.get_correct_moves(s):\n",
    "\t\t\t\tpossible_moves.append((s, e))\n",
    "\t\treturn Action(\n",
    "\t\t\trandom.choice(possible_moves),\n",
    "\t\t\ttorch.tensor([0], device=device)\n",
    "\t\t)"
   ]
  },
  {
   "cell_type": "code",
   "execution_count": 161,
   "metadata": {},
   "outputs": [],
   "source": [
    "def make_environment_step(state: Board, action: tuple[tuple[int, int], tuple[int, int]], enemy: IPlayer, current_step: int) -> tuple[Board, torch.Tensor]:\n",
    "\t\"\"\"\n",
    "\tReturns new state and reward for the given action.\n",
    "\t\"\"\"\n",
    "\tstate = copy.deepcopy(state)\n",
    "\tcur_sign = state.turn_sign\n",
    "\n",
    "\treward = move_result_to_reward(state.make_move(*action)) + state_to_reward(state)\n",
    "\n",
    "\twhile state.game_state == GameState.NOT_OVER and state.turn_sign != cur_sign:\n",
    "\t\treward -= move_result_to_reward(state.make_move(*enemy.decide_move(state)))\n",
    "\n",
    "\t# if current_step > 10 and not we_captured:\n",
    "\t# \treward -= 2\n",
    "\t\t\n",
    "\tif state.game_state != GameState.NOT_OVER:\n",
    "\t\tour_pieces = 0\n",
    "\t\tenemy_pieces = 0\n",
    "\t\tfor _, piece in state:\n",
    "\t\t\tif piece == cur_sign:\n",
    "\t\t\t\tour_pieces += 1\n",
    "\t\t\telif piece == -cur_sign:\n",
    "\t\t\t\tenemy_pieces += 1\n",
    "\t\t\telif piece == 2 * cur_sign:\n",
    "\t\t\t\tour_pieces += 2\n",
    "\t\t\telif piece == -2 * cur_sign:\n",
    "\t\t\t\tenemy_pieces += 2\n",
    "\t\t\t\n",
    "\t\treward += 3 * our_pieces / (enemy_pieces + 1)\n",
    "\n",
    "\t\tif state.game_state == GameState.DRAW:\n",
    "\t\t\treward -= 40\n",
    "\t\telif state.game_state == GameState(cur_sign):\n",
    "\t\t\treward += 40\n",
    "\t\telif state.game_state == GameState(-cur_sign):\n",
    "\t\t\treward -= 40\n",
    "\t\telse:\n",
    "\t\t\traise ValueError(\"Unexpected game state\")\n",
    "\t\n",
    "\treturn state, torch.Tensor([reward])"
   ]
  },
  {
   "cell_type": "code",
   "execution_count": 162,
   "metadata": {},
   "outputs": [
    {
     "name": "stderr",
     "output_type": "stream",
     "text": [
      "C:\\Users\\mario\\AppData\\Local\\Temp\\ipykernel_12144\\937859143.py:13: FutureWarning: You are using `torch.load` with `weights_only=False` (the current default value), which uses the default pickle module implicitly. It is possible to construct malicious pickle data which will execute arbitrary code during unpickling (See https://github.com/pytorch/pytorch/blob/main/SECURITY.md#untrusted-models for more details). In a future release, the default value for `weights_only` will be flipped to `True`. This limits the functions that could be executed during unpickling. Arbitrary objects will no longer be allowed to be loaded via this mode unless they are explicitly allowlisted by the user via `torch.serialization.add_safe_globals`. We recommend you start setting `weights_only=True` for any use case where you don't have full control of the loaded file. Please open an issue on GitHub for any issues related to this experimental feature.\n",
      "  Q_1.load_state_dict(torch.load(\"ddqn87 90 50 50 1 q_1 tuned on ddqn86.pth\"))\n",
      "C:\\Users\\mario\\AppData\\Local\\Temp\\ipykernel_12144\\937859143.py:14: FutureWarning: You are using `torch.load` with `weights_only=False` (the current default value), which uses the default pickle module implicitly. It is possible to construct malicious pickle data which will execute arbitrary code during unpickling (See https://github.com/pytorch/pytorch/blob/main/SECURITY.md#untrusted-models for more details). In a future release, the default value for `weights_only` will be flipped to `True`. This limits the functions that could be executed during unpickling. Arbitrary objects will no longer be allowed to be loaded via this mode unless they are explicitly allowlisted by the user via `torch.serialization.add_safe_globals`. We recommend you start setting `weights_only=True` for any use case where you don't have full control of the loaded file. Please open an issue on GitHub for any issues related to this experimental feature.\n",
      "  Q_2.load_state_dict(torch.load(\"ddqn87 90 50 50 1 q_1 tuned on ddqn86.pth\"))\n"
     ]
    }
   ],
   "source": [
    "def move_params(from_model: DQN, to_model: DQN):\n",
    "\t# to_model.load_state_dict(from_model.state_dict())\n",
    "\ttarget_net_state_dict = to_model.state_dict()\n",
    "\tpolicy_net_state_dict = from_model.state_dict()\n",
    "\tfor key in policy_net_state_dict:\n",
    "\t\ttarget_net_state_dict[key] = policy_net_state_dict[key]*TAU + target_net_state_dict[key]*(1-TAU)\n",
    "\tto_model.load_state_dict(target_net_state_dict)\n",
    "\n",
    "Q_1 = DQN().to(device) # to be updated often\n",
    "Q_2 = DQN().to(device) # to be updated with TAU\n",
    "\n",
    "# move_params(Q_1, Q_2)\n",
    "Q_1.load_state_dict(torch.load(\"ddqn87 90 50 50 1 q_1 tuned on ddqn86.pth\"))\n",
    "Q_2.load_state_dict(torch.load(\"ddqn87 90 50 50 1 q_1 tuned on ddqn86.pth\"))\n",
    "\n",
    "\n",
    "# only train Q_1\n",
    "for param in Q_2.parameters():\n",
    "\tparam.requires_grad = False\n",
    "\n",
    "optimizer = optim.AdamW(Q_1.parameters(), lr=LR, amsgrad=True)\n",
    "# scheduler = StepLR(optimizer, step_size=100, gamma=1)\n",
    "\n",
    "\n",
    "@dataclass\n",
    "class TransitionRecord:\n",
    "\tcurrent_state: Board\n",
    "\tnext_state: Board\n",
    "\timmediate_reward: torch.Tensor\n",
    "\taction: tuple[tuple[int, int], tuple[int, int]]\n",
    "\n",
    "def optimize_model(memory: list[TransitionRecord]):\n",
    "\tif len(memory) < BATCH_SIZE:\n",
    "\t\treturn\n",
    "\t\n",
    "\tq_value = []\n",
    "\texpected_q_value = []\n",
    "\n",
    "\tfor r in random.sample(memory, BATCH_SIZE):\n",
    "\t\tq_value.append(next(\n",
    "\t\t\ta.value for a in q_s(Q_1, r.current_state) if a.action == r.action\n",
    "\t\t))\n",
    "\n",
    "\t\tif r.next_state.game_state == GameState.NOT_OVER:\n",
    "\t\t\tnext_q_state_action = max(\n",
    "\t\t\t\tq_s(Q_2, r.next_state), key=lambda x: x.value.item()\n",
    "\t\t\t).action\n",
    "\n",
    "\t\t\tnext_q_value = next(\n",
    "\t\t\t\ta.value for a in q_s(Q_1, r.next_state) if a.action == next_q_state_action\n",
    "\t\t\t)\n",
    "\t\telse:\n",
    "\t\t\tnext_q_value = torch.tensor([0], device=device)\n",
    "\n",
    "\t\texpected_q_value.append((next_q_value * GAMMA) + r.immediate_reward)\n",
    "\n",
    "\t# Compute Huber loss\n",
    "\tcriterion = nn.MSELoss()\n",
    "\tloss = criterion(\n",
    "\t\ttorch.cat(q_value),\n",
    "\t\ttorch.cat(expected_q_value)\n",
    "\t)\n",
    "\n",
    "\t# Optimize the model\n",
    "\toptimizer.zero_grad()\n",
    "\tloss.backward()\n",
    "\t# In-place gradient clipping\n",
    "\ttorch.nn.utils.clip_grad_value_(Q_1.parameters(), 100)\n",
    "\toptimizer.step()"
   ]
  },
  {
   "cell_type": "code",
   "execution_count": 163,
   "metadata": {},
   "outputs": [],
   "source": [
    "def run_game(net: DQN) -> int:\n",
    "\tenemy = RandomPlayer(random.randint(0, 10000))\n",
    "\tboard = Board()\n",
    "\twhile board.game_state == GameState.NOT_OVER:\n",
    "\t\twhile board.game_state == GameState.NOT_OVER and board.turn_sign == 1:\n",
    "\t\t\tboard.make_move(*enemy.decide_move(board))\n",
    "\t\twhile board.game_state == GameState.NOT_OVER and board.turn_sign == -1:\n",
    "\t\t\twith torch.no_grad():\n",
    "\t\t\t\tstate_values = max(q_s(net, board), key=lambda x: x.value.item())\n",
    "\t\t\t\tboard.make_move(*state_values.action)\n",
    "\t\n",
    "\tpieces = 0\n",
    "\tfor _, piece in board:\n",
    "\t\tpieces += piece != 0\n",
    "\n",
    "\treturn (1 if board.game_state == GameState(-1) else -1) * pieces"
   ]
  },
  {
   "cell_type": "code",
   "execution_count": 164,
   "metadata": {},
   "outputs": [],
   "source": [
    "max_score = 0\n",
    "backup = None"
   ]
  },
  {
   "cell_type": "code",
   "execution_count": 180,
   "metadata": {},
   "outputs": [
    {
     "name": "stdout",
     "output_type": "stream",
     "text": [
      "13:18:20 Episode 0 finished. 1/40 | 36.0\n",
      "13:18:20 Episode 1 finished. 1/40 | 23.5\n",
      "13:18:21 Episode 2 finished. 2/40 | 19.333333333333332\n",
      "13:18:21 Episode 3 finished. 2/40 | 16.75\n",
      "13:18:21 Episode 4 finished. 3/40 | 15.4\n",
      "13:18:21 Episode 5 finished. 3/40 | 16.166666666666668\n",
      "13:18:21 Episode 6 finished. 4/40 | 17.0\n",
      "13:18:21 Episode 7 finished. 5/40 | 18.25\n",
      "13:18:21 Episode 8 finished. 5/40 | 18.22222222222222\n",
      "13:18:23 Episode 9 finished. 6/40 | 17.7\n",
      "13:18:23 Episode 10 finished. 7/40 | 17.636363636363637\n",
      "13:18:23 Episode 11 finished. 8/40 | 17.0\n",
      "13:18:25 Episode 12 finished. 9/40 | 16.46153846153846\n",
      "13:18:25 Episode 13 finished. 9/40 | 18.642857142857142\n",
      "13:18:25 Episode 14 finished. 10/40 | 18.066666666666666\n",
      "13:18:27 Episode 15 finished. 11/40 | 18.125\n",
      "13:18:27 Episode 16 finished. 11/40 | 17.529411764705884\n",
      "13:18:27 Episode 17 finished. 12/40 | 18.333333333333332\n",
      "13:18:30 Episode 18 finished. 13/40 | 17.894736842105264\n",
      "13:18:30 Episode 19 finished. 14/40 | 17.6\n",
      "13:18:30 Episode 20 finished. 15/40 | 17.714285714285715\n",
      "13:18:32 Episode 21 finished. 16/40 | 17.40909090909091\n",
      "13:18:32 Episode 22 finished. 17/40 | 17.52173913043478\n",
      "13:18:32 Episode 23 finished. 18/40 | 17.333333333333332\n",
      "13:18:34 Episode 24 finished. 19/40 | 17.04\n",
      "13:18:34 Episode 25 finished. 19/40 | 16.692307692307693\n",
      "13:18:34 Episode 26 finished. 19/40 | 16.40740740740741\n",
      "13:18:36 Episode 27 finished. 20/40 | 16.178571428571427\n",
      "13:18:36 Episode 28 finished. 21/40 | 16.0\n",
      "13:18:36 Episode 29 finished. 21/40 | 16.633333333333333\n",
      "13:18:38 Episode 30 finished. 22/40 | 17.0\n",
      "13:18:38 Episode 31 finished. 23/40 | 16.8125\n",
      "13:18:38 Episode 32 finished. 24/40 | 16.606060606060606\n",
      "13:18:41 Episode 33 finished. 25/40 | 16.558823529411764\n",
      "13:18:41 Episode 34 finished. 26/40 | 16.285714285714285\n",
      "13:18:41 Episode 35 finished. 27/40 | 16.25\n",
      "13:18:43 Episode 36 finished. 28/40 | 16.10810810810811\n",
      "13:18:43 Episode 37 finished. 29/40 | 16.0\n",
      "13:18:43 Episode 38 finished. 30/40 | 15.897435897435898\n",
      "13:18:45 Episode 39 finished. 30/40 | 16.1\n",
      "13:18:45 Episode 40 finished. 30/40 | 16.21951219512195\n",
      "13:18:45 Episode 41 finished. 31/40 | 16.142857142857142\n",
      "13:18:47 Episode 42 finished. 30/40 | 16.232558139534884\n",
      "13:18:47 Episode 43 finished. 31/40 | 16.068181818181817\n",
      "13:18:47 Episode 44 finished. 30/40 | 16.155555555555555\n",
      "13:18:49 Episode 45 finished. 31/40 | 16.065217391304348\n",
      "13:18:49 Episode 46 finished. 31/40 | 16.574468085106382\n",
      "13:18:49 Episode 47 finished. 31/40 | 16.604166666666668\n",
      "13:18:52 Episode 48 finished. 32/40 | 16.897959183673468\n",
      "13:18:52 Episode 49 finished. 32/40 | 16.78\n",
      "13:18:52 Episode 50 finished. 32/40 | 16.80392156862745\n",
      "13:18:54 Episode 51 finished. 31/40 | 16.673076923076923\n",
      "13:18:54 Episode 52 finished. 30/40 | 16.9811320754717\n",
      "13:18:54 Episode 53 finished. 31/40 | 16.85185185185185\n",
      "13:18:56 Episode 54 finished. 31/40 | 17.036363636363635\n",
      "13:18:56 Episode 55 finished. 30/40 | 17.482142857142858\n",
      "13:18:56 Episode 56 finished. 31/40 | 17.350877192982455\n",
      "13:18:58 Episode 57 finished. 30/40 | 17.689655172413794\n",
      "13:18:58 Episode 58 finished. 30/40 | 17.864406779661017\n",
      "13:18:58 Episode 59 finished. 29/40 | 17.733333333333334\n",
      "13:19:01 Episode 60 finished. 29/40 | 17.639344262295083\n",
      "13:19:01 Episode 61 finished. 29/40 | 17.596774193548388\n",
      "13:19:01 Episode 62 finished. 28/40 | 17.904761904761905\n",
      "13:19:03 Episode 63 finished. 28/40 | 17.796875\n",
      "13:19:03 Episode 64 finished. 28/40 | 17.723076923076924\n",
      "13:19:03 Episode 65 finished. 28/40 | 17.833333333333332\n",
      "13:19:05 Episode 66 finished. 29/40 | 17.80597014925373\n",
      "13:19:05 Episode 67 finished. 29/40 | 18.176470588235293\n",
      "13:19:05 Episode 68 finished. 29/40 | 18.10144927536232\n",
      "13:19:07 Episode 69 finished. 30/40 | 17.985714285714284\n",
      "13:19:07 Episode 70 finished. 30/40 | 18.070422535211268\n",
      "13:19:07 Episode 71 finished. 30/40 | 18.069444444444443\n",
      "13:19:10 Episode 72 finished. 30/40 | 18.027397260273972\n",
      "13:19:10 Episode 73 finished. 30/40 | 17.93243243243243\n",
      "13:19:10 Episode 74 finished. 30/40 | 17.826666666666668\n",
      "13:19:12 Episode 75 finished. 30/40 | 17.82894736842105\n",
      "13:19:12 Episode 76 finished. 30/40 | 18.12987012987013\n",
      "13:19:12 Episode 77 finished. 30/40 | 18.358974358974358\n",
      "13:19:15 Episode 78 finished. 30/40 | 18.645569620253166\n",
      "13:19:15 Episode 79 finished. 31/40 | 18.7\n",
      "13:19:15 Episode 80 finished. 31/40 | 18.82716049382716\n",
      "13:19:17 Episode 81 finished. 31/40 | 18.71951219512195\n",
      "13:19:17 Episode 82 finished. 32/40 | 18.6144578313253\n",
      "13:19:17 Episode 83 finished. 32/40 | 18.607142857142858\n",
      "13:19:19 Episode 84 finished. 32/40 | 18.50588235294118\n",
      "13:19:19 Episode 85 finished. 32/40 | 18.430232558139537\n",
      "13:19:19 Episode 86 finished. 32/40 | 18.344827586206897\n",
      "13:19:22 Episode 87 finished. 32/40 | 18.306818181818183\n",
      "13:19:22 Episode 88 finished. 32/40 | 18.213483146067414\n",
      "13:19:22 Episode 89 finished. 31/40 | 18.133333333333333\n",
      "13:19:24 Episode 90 finished. 31/40 | 18.032967032967033\n",
      "13:19:24 Episode 91 finished. 32/40 | 17.934782608695652\n",
      "13:19:24 Episode 92 finished. 33/40 | 17.9247311827957\n",
      "13:19:26 Episode 93 finished. 33/40 | 17.96808510638298\n",
      "13:19:26 Episode 94 finished. 33/40 | 17.94736842105263\n",
      "13:19:26 Episode 95 finished. 34/40 | 17.864583333333332\n",
      "13:19:29 Episode 96 finished. 34/40 | 17.84536082474227\n",
      "13:19:29 Episode 97 finished. 35/40 | 17.836734693877553\n",
      "13:19:29 Episode 98 finished. 35/40 | 17.747474747474747\n",
      "13:19:31 Episode 99 finished. 36/40 | 17.67\n",
      "13:19:31 Episode 100 finished. 36/40 | 17.693069306930692\n",
      "13:19:31 Episode 101 finished. 36/40 | 17.627450980392158\n",
      "Switching to Q enemy\n",
      "13:19:33 Episode 102 finished. 37/40 | 17.59223300970874\n",
      "Complete\n"
     ]
    }
   ],
   "source": [
    "num_episodes = 2000\n",
    "memory: list[TransitionRecord] = []\n",
    "\n",
    "win_rate = []\n",
    "number_of_steps = []\n",
    "sum_number_of_steps = 0\n",
    "\n",
    "q_enemy = QLearning(\"dqn86 90 50 50 1.pth\")\n",
    "rand_enemy = RandomPlayer(random.randint(0, 1000))\n",
    "use_q_enemy = False\n",
    "\n",
    "for i_episode in range(num_episodes):\n",
    "\t# Initialize the environment and get its state\n",
    "\tcur_state = Board()\n",
    "\tfor _ in range(random.randint(0, 1)):\n",
    "\t\tcur_state.make_move(*rand_enemy.decide_move(cur_state))\n",
    "\t\n",
    "\t# if i_episode < 500:\n",
    "\tif not use_q_enemy:\n",
    "\t\tenemy = rand_enemy\n",
    "\telse:\n",
    "\t\tenemy = q_enemy\n",
    "\t\n",
    "\tour_sign = cur_state.turn_sign\n",
    "\t\n",
    "\tnum_steps = 0\n",
    "\twhile True:\n",
    "\t\tnum_steps += 1\n",
    "\t\taction = select_action(Q_2, cur_state)\n",
    "\t\tnew_state, immediate_reward = make_environment_step(cur_state, action.action, enemy, num_steps)\n",
    "\n",
    "\t\tmemory.append(TransitionRecord(\n",
    "\t\t\tcur_state, new_state,\n",
    "\t\t\ttorch.tensor([immediate_reward], device=device),\n",
    "\t\t\taction.action\n",
    "\t\t))\n",
    "\t\tcur_state = new_state\n",
    "\n",
    "\t\tif cur_state.game_state != GameState.NOT_OVER:\n",
    "\t\t\twin_rate.append(cur_state.game_state == GameState(our_sign))\n",
    "\t\t\tbreak\n",
    "\n",
    "\t# Cropping memory\n",
    "\t# memory = memory[-5000:]\n",
    "\t\n",
    "\tif i_episode % 3 == 0:\n",
    "\t\tfor _ in range(5):\n",
    "\t\t\toptimize_model(memory)\n",
    "\t\t\n",
    "\t\tmove_params(Q_1, Q_2)\n",
    "\n",
    "\tnumber_of_steps.append(num_steps)\n",
    "\tsum_number_of_steps += num_steps\n",
    "\t# stats = [run_game(Q_2) for _ in range(20)]\n",
    "\t# a = sum(win_rate[-20:])\n",
    "\t# b = sum(x > 0 for x in stats)\n",
    "\n",
    "\t# if a * b > max_score:\n",
    "\t# \tmax_score = a * b\n",
    "\t# \tbackup = copy.deepcopy(Q_2)\n",
    "\n",
    "\twin_window = 40\n",
    "\twin_stat = sum(win_rate[-win_window:])\n",
    "\n",
    "\tif not use_q_enemy:\n",
    "\t\tif (win_stat / win_window) > (18/20):\n",
    "\t\t\tuse_q_enemy = True\n",
    "\t\t\tsteps_done = 0\n",
    "\t\t\tprint(\"Switching to Q enemy\")\n",
    "\telse:\n",
    "\t\tif (win_stat / win_window) > (18/20):\n",
    "\t\t\tbreak\n",
    "\n",
    "\tprint(time.strftime(\"%H:%M:%S\"), f\"Episode {i_episode} finished. {win_stat}/{win_window} | {sum_number_of_steps/len(number_of_steps)}\")\n",
    "\n",
    "print('Complete')"
   ]
  },
  {
   "cell_type": "code",
   "execution_count": 181,
   "metadata": {},
   "outputs": [],
   "source": [
    "from typing import Iterator\n",
    "\n",
    "def window_cum(values: list[int], window: int) -> Iterator[float]:\n",
    "\tvalue = sum(values[:window])\n",
    "\tyield value\n",
    "\tfor i in range(window, len(values)):\n",
    "\t\tvalue += values[i] - values[i - window]\n",
    "\t\tyield value"
   ]
  },
  {
   "cell_type": "code",
   "execution_count": 182,
   "metadata": {},
   "outputs": [
    {
     "data": {
      "text/plain": [
       "[<matplotlib.lines.Line2D at 0x1f3be907490>]"
      ]
     },
     "execution_count": 182,
     "metadata": {},
     "output_type": "execute_result"
    },
    {
     "data": {
      "image/png": "[encoded data removed]",
      "text/plain": [
       "<Figure size 640x480 with 1 Axes>"
      ]
     },
     "metadata": {},
     "output_type": "display_data"
    }
   ],
   "source": [
    "from matplotlib import pyplot as plt\n",
    "\n",
    "plt.plot(list(window_cum(win_rate, 40)))"
   ]
  },
  {
   "cell_type": "code",
   "execution_count": 183,
   "metadata": {},
   "outputs": [
    {
     "data": {
      "text/plain": [
       "0.7980769230769231"
      ]
     },
     "execution_count": 183,
     "metadata": {},
     "output_type": "execute_result"
    }
   ],
   "source": [
    "sum(win_rate) / len(win_rate)"
   ]
  },
  {
   "cell_type": "code",
   "execution_count": 184,
   "metadata": {},
   "outputs": [
    {
     "data": {
      "text/plain": [
       "104"
      ]
     },
     "execution_count": 184,
     "metadata": {},
     "output_type": "execute_result"
    }
   ],
   "source": [
    "len(win_rate)"
   ]
  },
  {
   "cell_type": "code",
   "execution_count": 185,
   "metadata": {},
   "outputs": [
    {
     "data": {
      "text/plain": [
       "83"
      ]
     },
     "execution_count": 185,
     "metadata": {},
     "output_type": "execute_result"
    }
   ],
   "source": [
    "sum(win_rate)"
   ]
  },
  {
   "cell_type": "code",
   "execution_count": 186,
   "metadata": {},
   "outputs": [
    {
     "data": {
      "text/plain": [
       "0"
      ]
     },
     "execution_count": 186,
     "metadata": {},
     "output_type": "execute_result"
    }
   ],
   "source": [
    "max_score"
   ]
  },
  {
   "cell_type": "code",
   "execution_count": 187,
   "metadata": {},
   "outputs": [],
   "source": [
    "from matplotlib import pyplot as plt"
   ]
  },
  {
   "cell_type": "code",
   "execution_count": 188,
   "metadata": {},
   "outputs": [
    {
     "data": {
      "text/plain": [
       "(870, 1000)"
      ]
     },
     "execution_count": 188,
     "metadata": {},
     "output_type": "execute_result"
    },
    {
     "data": {
      "image/png": "[encoded data removed]",
      "text/plain": [
       "<Figure size 640x480 with 1 Axes>"
      ]
     },
     "metadata": {},
     "output_type": "display_data"
    }
   ],
   "source": [
    "stats = [run_game(Q_2) for _ in range(1000)]\n",
    "\n",
    "plt.hist(stats)\n",
    "sum(x > 0 for x in stats), len(stats)"
   ]
  },
  {
   "cell_type": "code",
   "execution_count": 189,
   "metadata": {},
   "outputs": [
    {
     "data": {
      "text/plain": [
       "(876, 1000)"
      ]
     },
     "execution_count": 189,
     "metadata": {},
     "output_type": "execute_result"
    },
    {
     "data": {
      "image/png": "[encoded data removed]",
      "text/plain": [
       "<Figure size 640x480 with 1 Axes>"
      ]
     },
     "metadata": {},
     "output_type": "display_data"
    }
   ],
   "source": [
    "stats = [run_game(Q_2) for _ in range(1000)]\n",
    "\n",
    "plt.hist(stats)\n",
    "sum(x > 0 for x in stats), len(stats)"
   ]
  },
  {
   "cell_type": "code",
   "execution_count": 190,
   "metadata": {},
   "outputs": [
    {
     "data": {
      "text/plain": [
       "(843, 1000)"
      ]
     },
     "execution_count": 190,
     "metadata": {},
     "output_type": "execute_result"
    },
    {
     "data": {
      "image/png": "[encoded data removed]",
      "text/plain": [
       "<Figure size 640x480 with 1 Axes>"
      ]
     },
     "metadata": {},
     "output_type": "display_data"
    }
   ],
   "source": [
    "stats = [run_game(Q_2) for _ in range(1000)]\n",
    "\n",
    "plt.hist(stats)\n",
    "sum(x > 0 for x in stats), len(stats)"
   ]
  },
  {
   "cell_type": "code",
   "execution_count": 191,
   "metadata": {},
   "outputs": [],
   "source": [
    "torch.save(Q_2.state_dict(), \"ddqn86 90 50 50 1 q_2 tuned on ddqn86.pth\")"
   ]
  },
  {
   "cell_type": "code",
   "execution_count": 192,
   "metadata": {},
   "outputs": [
    {
     "data": {
      "text/plain": [
       "(808, 1000)"
      ]
     },
     "execution_count": 192,
     "metadata": {},
     "output_type": "execute_result"
    },
    {
     "data": {
      "image/png": "[encoded data removed]",
      "text/plain": [
       "<Figure size 640x480 with 1 Axes>"
      ]
     },
     "metadata": {},
     "output_type": "display_data"
    }
   ],
   "source": [
    "stats = [run_game(Q_1) for _ in range(1000)]\n",
    "\n",
    "plt.hist(stats)\n",
    "sum(x > 0 for x in stats), len(stats)"
   ]
  },
  {
   "cell_type": "code",
   "execution_count": 193,
   "metadata": {},
   "outputs": [
    {
     "data": {
      "text/plain": [
       "(801, 1000)"
      ]
     },
     "execution_count": 193,
     "metadata": {},
     "output_type": "execute_result"
    },
    {
     "data": {
      "image/png": "[encoded data removed]",
      "text/plain": [
       "<Figure size 640x480 with 1 Axes>"
      ]
     },
     "metadata": {},
     "output_type": "display_data"
    }
   ],
   "source": [
    "stats = [run_game(Q_1) for _ in range(1000)]\n",
    "\n",
    "plt.hist(stats)\n",
    "sum(x > 0 for x in stats), len(stats)"
   ]
  },
  {
   "cell_type": "code",
   "execution_count": 194,
   "metadata": {},
   "outputs": [
    {
     "data": {
      "text/plain": [
       "(827, 1000)"
      ]
     },
     "execution_count": 194,
     "metadata": {},
     "output_type": "execute_result"
    },
    {
     "data": {
      "image/png": "[encoded data removed]",
      "text/plain": [
       "<Figure size 640x480 with 1 Axes>"
      ]
     },
     "metadata": {},
     "output_type": "display_data"
    }
   ],
   "source": [
    "stats = [run_game(Q_1) for _ in range(1000)]\n",
    "\n",
    "plt.hist(stats)\n",
    "sum(x > 0 for x in stats), len(stats)"
   ]
  },
  {
   "cell_type": "code",
   "execution_count": 195,
   "metadata": {},
   "outputs": [],
   "source": [
    "torch.save(Q_2.state_dict(), \"ddqn87 90 50 50 1 q_1 tuned on ddqn86.pth\")"
   ]
  },
  {
   "cell_type": "markdown",
   "metadata": {},
   "source": [
    "We might also want to tune down the exploration rate at this point"
   ]
  },
  {
   "cell_type": "code",
   "execution_count": 196,
   "metadata": {},
   "outputs": [
    {
     "data": {
      "text/plain": [
       "0"
      ]
     },
     "execution_count": 196,
     "metadata": {},
     "output_type": "execute_result"
    }
   ],
   "source": [
    "sum_number_of_steps - sum(number_of_steps[:700])"
   ]
  },
  {
   "cell_type": "code",
   "execution_count": 197,
   "metadata": {},
   "outputs": [
    {
     "data": {
      "text/plain": [
       "0.05000161863806169"
      ]
     },
     "execution_count": 197,
     "metadata": {},
     "output_type": "execute_result"
    }
   ],
   "source": [
    "EPS_END + (EPS_START - EPS_END) * \\\n",
    "\t\tmath.exp(-1. * sum(number_of_steps[:700]) / EPS_DECAY)"
   ]
  },
  {
   "cell_type": "code",
   "execution_count": 198,
   "metadata": {},
   "outputs": [
    {
     "data": {
      "text/plain": [
       "0.05000161863806169"
      ]
     },
     "execution_count": 198,
     "metadata": {},
     "output_type": "execute_result"
    }
   ],
   "source": [
    "EPS_END + (EPS_START - EPS_END) * \\\n",
    "\t\tmath.exp(-1. * sum_number_of_steps / EPS_DECAY)"
   ]
  }
 ],
 "metadata": {
  "kernelspec": {
   "display_name": "Python 3",
   "language": "python",
   "name": "python3"
  },
  "language_info": {
   "codemirror_mode": {
    "name": "ipython",
    "version": 3
   },
   "file_extension": ".py",
   "mimetype": "text/x-python",
   "name": "python",
   "nbconvert_exporter": "python",
   "pygments_lexer": "ipython3",
   "version": "3.10.16"
  }
 },
 "nbformat": 4,
 "nbformat_minor": 2
}
