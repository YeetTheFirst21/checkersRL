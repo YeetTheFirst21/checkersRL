{
 "cells": [
  {
   "cell_type": "code",
   "execution_count": 227,
   "metadata": {},
   "outputs": [],
   "source": [
    "# https://pytorch.org/tutorials/intermediate/reinforcement_q_learning.html\n",
    "\n",
    "import torch\n",
    "import torch.nn as nn\n",
    "import torch.optim as optim\n",
    "import torch.nn.functional as F\n",
    "# from torch.optim.lr_scheduler import StepLR"
   ]
  },
  {
   "cell_type": "code",
   "execution_count": 228,
   "metadata": {},
   "outputs": [],
   "source": [
    "import math\n",
    "import copy\n",
    "import time\n",
    "import random\n",
    "from dataclasses import dataclass"
   ]
  },
  {
   "cell_type": "code",
   "execution_count": 229,
   "metadata": {},
   "outputs": [],
   "source": [
    "from algo.dynamicProgramming import dynamicPlayer\n",
    "from algo.iplayer import RandomPlayer, IPlayer\n",
    "from algo.q_learning import QLearning\n",
    "from algo.board import Board, GameState, MoveResult"
   ]
  },
  {
   "cell_type": "code",
   "execution_count": 230,
   "metadata": {},
   "outputs": [
    {
     "data": {
      "text/plain": [
       "device(type='cpu')"
      ]
     },
     "execution_count": 230,
     "metadata": {},
     "output_type": "execute_result"
    }
   ],
   "source": [
    "device = torch.device(\n",
    "    # \"cuda\" if torch.cuda.is_available() else\n",
    "    # \"mps\" if torch.backends.mps.is_available() else\n",
    "    \"cpu\"\n",
    ")\n",
    "device"
   ]
  },
  {
   "cell_type": "code",
   "execution_count": 231,
   "metadata": {},
   "outputs": [],
   "source": [
    "DEPLOYMENT_SIGN = -1\n",
    "\n",
    "class DQN(nn.Module):\n",
    "\t\"\"\"\n",
    "\tUsing structure similar to NNUE:\n",
    "\thttps://www.chessprogramming.org/File:StockfishNNUELayers.png\n",
    "\t\n",
    "\tObservation space: hot-encoded board:\n",
    "\tfor each of 18 cells we can be -2, -1, 0, 1, 2 (5 possibilities).\n",
    "\tIn total it gives 18 * 5 = 90 possible inputs, out of which at most 12 are on.\n",
    "\t\n",
    "\t# Action space: 4 possible actions.\n",
    "\tValue function: 1 output. # https://www.reddit.com/r/reinforcementlearning/comments/1b1te73/help_me_understand_why_use_a_policy_net_instead/\n",
    "\t\"\"\"\n",
    "\n",
    "\tdef __init__(self):\n",
    "\t\tsuper(DQN, self).__init__()\n",
    "\n",
    "\t\tlayer_sizes = [\n",
    "\t\t\t90,\n",
    "\t\t\t50,\n",
    "\t\t\t50,\n",
    "\t\t\t1\n",
    "\t\t]\n",
    "\n",
    "\t\tlayers = []\n",
    "\t\tprev_size = layer_sizes[0]\n",
    "\t\tfor cur_size in layer_sizes[1:]:\n",
    "\t\t\tlayer = nn.Linear(prev_size, cur_size)\n",
    "\t\t\t# nn.init.kaiming_uniform(layer.weight, nonlinearity='relu')\n",
    "\t\t\tlayers.append(layer)\n",
    "\t\t\tprev_size = cur_size\n",
    "\n",
    "\t\tself.layers = nn.ModuleList(layers)\n",
    "\n",
    "\tdef forward(self, board: Board) -> torch.Tensor:\n",
    "\t\tstate = board.to_tensor(\n",
    "\t\t\tdevice,\n",
    "\t\t\tboard.turn_sign != DEPLOYMENT_SIGN\n",
    "\t\t)\n",
    "\t\tfor layer in self.layers[:-1]:\n",
    "\t\t\tstate = F.relu(layer(state))\n",
    "\t\treturn self.layers[-1](state)"
   ]
  },
  {
   "cell_type": "code",
   "execution_count": 232,
   "metadata": {},
   "outputs": [],
   "source": [
    "def move_result_to_reward(move_result: MoveResult) -> float:\n",
    "    return move_result.captured + move_result.promoted * 2\n",
    "\n",
    "def state_to_reward(state: Board) -> float:\n",
    "\treturn -2 * (state.moves_since_last_capture > 4)"
   ]
  },
  {
   "cell_type": "code",
   "execution_count": 233,
   "metadata": {},
   "outputs": [],
   "source": [
    "GAMMA = 0.99 # discount rate\n",
    "\n",
    "@dataclass\n",
    "class Action:\n",
    "\taction: tuple[tuple[int, int], tuple[int, int]]\n",
    "\tvalue: torch.Tensor\n",
    "\n",
    "def q_s(dqn: DQN, current_state: Board) -> list[Action]:\n",
    "\t\"\"\"\n",
    "\tReturn: list[(new_state, action, immediate_reward, value)]\n",
    "\t\"\"\"\n",
    "\tret: list[Action] = []\n",
    "\tfor s in current_state.get_possible_pos():\n",
    "\t\tfor e in current_state.get_correct_moves(s):\n",
    "\t\t\tnext_state = copy.deepcopy(current_state)\n",
    "\t\t\timmediate_reward = torch.tensor([\n",
    "\t\t\t\tmove_result_to_reward(next_state.make_move(s, e)) + \n",
    "\t\t\t\tstate_to_reward(next_state)\n",
    "\t\t\t], device=device)\n",
    "\t\t\tvalue = dqn(next_state) * GAMMA + immediate_reward\n",
    "\t\t\tret.append(Action((s, e), value))\n",
    "\treturn ret"
   ]
  },
  {
   "cell_type": "code",
   "execution_count": 234,
   "metadata": {},
   "outputs": [],
   "source": [
    "BATCH_SIZE = 128 # number of transitions sampled from the replay buffer\n",
    "\n",
    "EPS_START = 0.3 # exploration rate\n",
    "EPS_END = 0.01\n",
    "EPS_DECAY = 1000\n",
    "TAU = 0.006 # update rate\n",
    "LR = 1e-4 # AdamW learning rate\n",
    "\n",
    "steps_done = 0\n",
    "\n",
    "def select_action(dqn: DQN, board: Board) -> Action:\n",
    "\tglobal steps_done\n",
    "\tsample = random.random()\n",
    "\teps_threshold = EPS_END + (EPS_START - EPS_END) * \\\n",
    "\t\tmath.exp(-1. * steps_done / EPS_DECAY)\n",
    "\tsteps_done += 1\n",
    "\n",
    "\tif sample > eps_threshold:\n",
    "\t\twith torch.no_grad():\n",
    "\t\t\tstate_values = q_s(dqn, board)\n",
    "\t\t\treturn max(state_values, key=lambda x: x.value.item())\n",
    "\t\t\t\t\t\n",
    "\telse:\n",
    "\t\tpossible_moves = []\n",
    "\t\tfor s in board.get_possible_pos():\n",
    "\t\t\tfor e in board.get_correct_moves(s):\n",
    "\t\t\t\tpossible_moves.append((s, e))\n",
    "\t\treturn Action(\n",
    "\t\t\trandom.choice(possible_moves),\n",
    "\t\t\ttorch.tensor([0], device=device)\n",
    "\t\t)"
   ]
  },
  {
   "cell_type": "code",
   "execution_count": 235,
   "metadata": {},
   "outputs": [],
   "source": [
    "def make_environment_step(state: Board, action: tuple[tuple[int, int], tuple[int, int]], enemy: IPlayer, current_step: int) -> tuple[Board, torch.Tensor]:\n",
    "\t\"\"\"\n",
    "\tReturns new state and reward for the given action.\n",
    "\t\"\"\"\n",
    "\tstate = copy.deepcopy(state)\n",
    "\tcur_sign = state.turn_sign\n",
    "\n",
    "\treward = move_result_to_reward(state.make_move(*action)) + state_to_reward(state)\n",
    "\n",
    "\twhile state.game_state == GameState.NOT_OVER and state.turn_sign != cur_sign:\n",
    "\t\treward -= move_result_to_reward(state.make_move(*enemy.decide_move(state)))\n",
    "\n",
    "\t# if current_step > 10 and not we_captured:\n",
    "\t# \treward -= 2\n",
    "\t\t\n",
    "\tif state.game_state != GameState.NOT_OVER:\n",
    "\t\tour_pieces = 0\n",
    "\t\tenemy_pieces = 0\n",
    "\t\tfor _, piece in state:\n",
    "\t\t\tif piece == cur_sign:\n",
    "\t\t\t\tour_pieces += 1\n",
    "\t\t\telif piece == -cur_sign:\n",
    "\t\t\t\tenemy_pieces += 1\n",
    "\t\t\telif piece == 2 * cur_sign:\n",
    "\t\t\t\tour_pieces += 2\n",
    "\t\t\telif piece == -2 * cur_sign:\n",
    "\t\t\t\tenemy_pieces += 2\n",
    "\t\t\t\n",
    "\t\treward += 3 * our_pieces / (enemy_pieces + 1)\n",
    "\n",
    "\t\tif state.game_state == GameState.DRAW:\n",
    "\t\t\treward -= 40\n",
    "\t\telif state.game_state == GameState(cur_sign):\n",
    "\t\t\treward += 40\n",
    "\t\telif state.game_state == GameState(-cur_sign):\n",
    "\t\t\treward -= 40\n",
    "\t\telse:\n",
    "\t\t\traise ValueError(\"Unexpected game state\")\n",
    "\t\n",
    "\treturn state, torch.Tensor([reward])"
   ]
  },
  {
   "cell_type": "code",
   "execution_count": 236,
   "metadata": {},
   "outputs": [
    {
     "name": "stderr",
     "output_type": "stream",
     "text": [
      "C:\\Users\\mario\\AppData\\Local\\Temp\\ipykernel_12144\\937859143.py:13: FutureWarning: You are using `torch.load` with `weights_only=False` (the current default value), which uses the default pickle module implicitly. It is possible to construct malicious pickle data which will execute arbitrary code during unpickling (See https://github.com/pytorch/pytorch/blob/main/SECURITY.md#untrusted-models for more details). In a future release, the default value for `weights_only` will be flipped to `True`. This limits the functions that could be executed during unpickling. Arbitrary objects will no longer be allowed to be loaded via this mode unless they are explicitly allowlisted by the user via `torch.serialization.add_safe_globals`. We recommend you start setting `weights_only=True` for any use case where you don't have full control of the loaded file. Please open an issue on GitHub for any issues related to this experimental feature.\n",
      "  Q_1.load_state_dict(torch.load(\"ddqn87 90 50 50 1 q_1 tuned on ddqn86.pth\"))\n",
      "C:\\Users\\mario\\AppData\\Local\\Temp\\ipykernel_12144\\937859143.py:14: FutureWarning: You are using `torch.load` with `weights_only=False` (the current default value), which uses the default pickle module implicitly. It is possible to construct malicious pickle data which will execute arbitrary code during unpickling (See https://github.com/pytorch/pytorch/blob/main/SECURITY.md#untrusted-models for more details). In a future release, the default value for `weights_only` will be flipped to `True`. This limits the functions that could be executed during unpickling. Arbitrary objects will no longer be allowed to be loaded via this mode unless they are explicitly allowlisted by the user via `torch.serialization.add_safe_globals`. We recommend you start setting `weights_only=True` for any use case where you don't have full control of the loaded file. Please open an issue on GitHub for any issues related to this experimental feature.\n",
      "  Q_2.load_state_dict(torch.load(\"ddqn87 90 50 50 1 q_1 tuned on ddqn86.pth\"))\n"
     ]
    }
   ],
   "source": [
    "def move_params(from_model: DQN, to_model: DQN):\n",
    "\t# to_model.load_state_dict(from_model.state_dict())\n",
    "\ttarget_net_state_dict = to_model.state_dict()\n",
    "\tpolicy_net_state_dict = from_model.state_dict()\n",
    "\tfor key in policy_net_state_dict:\n",
    "\t\ttarget_net_state_dict[key] = policy_net_state_dict[key]*TAU + target_net_state_dict[key]*(1-TAU)\n",
    "\tto_model.load_state_dict(target_net_state_dict)\n",
    "\n",
    "Q_1 = DQN().to(device) # to be updated often\n",
    "Q_2 = DQN().to(device) # to be updated with TAU\n",
    "\n",
    "# move_params(Q_1, Q_2)\n",
    "Q_1.load_state_dict(torch.load(\"ddqn87 90 50 50 1 q_1 tuned on ddqn86.pth\"))\n",
    "Q_2.load_state_dict(torch.load(\"ddqn87 90 50 50 1 q_1 tuned on ddqn86.pth\"))\n",
    "\n",
    "\n",
    "# only train Q_1\n",
    "for param in Q_2.parameters():\n",
    "\tparam.requires_grad = False\n",
    "\n",
    "optimizer = optim.AdamW(Q_1.parameters(), lr=LR, amsgrad=True)\n",
    "# scheduler = StepLR(optimizer, step_size=100, gamma=1)\n",
    "\n",
    "\n",
    "@dataclass\n",
    "class TransitionRecord:\n",
    "\tcurrent_state: Board\n",
    "\tnext_state: Board\n",
    "\timmediate_reward: torch.Tensor\n",
    "\taction: tuple[tuple[int, int], tuple[int, int]]\n",
    "\n",
    "def optimize_model(memory: list[TransitionRecord]):\n",
    "\tif len(memory) < BATCH_SIZE:\n",
    "\t\treturn\n",
    "\t\n",
    "\tq_value = []\n",
    "\texpected_q_value = []\n",
    "\n",
    "\tfor r in random.sample(memory, BATCH_SIZE):\n",
    "\t\tq_value.append(next(\n",
    "\t\t\ta.value for a in q_s(Q_1, r.current_state) if a.action == r.action\n",
    "\t\t))\n",
    "\n",
    "\t\tif r.next_state.game_state == GameState.NOT_OVER:\n",
    "\t\t\tnext_q_state_action = max(\n",
    "\t\t\t\tq_s(Q_2, r.next_state), key=lambda x: x.value.item()\n",
    "\t\t\t).action\n",
    "\n",
    "\t\t\tnext_q_value = next(\n",
    "\t\t\t\ta.value for a in q_s(Q_1, r.next_state) if a.action == next_q_state_action\n",
    "\t\t\t)\n",
    "\t\telse:\n",
    "\t\t\tnext_q_value = torch.tensor([0], device=device)\n",
    "\n",
    "\t\texpected_q_value.append((next_q_value * GAMMA) + r.immediate_reward)\n",
    "\n",
    "\t# Compute Huber loss\n",
    "\tcriterion = nn.MSELoss()\n",
    "\tloss = criterion(\n",
    "\t\ttorch.cat(q_value),\n",
    "\t\ttorch.cat(expected_q_value)\n",
    "\t)\n",
    "\n",
    "\t# Optimize the model\n",
    "\toptimizer.zero_grad()\n",
    "\tloss.backward()\n",
    "\t# In-place gradient clipping\n",
    "\ttorch.nn.utils.clip_grad_value_(Q_1.parameters(), 100)\n",
    "\toptimizer.step()"
   ]
  },
  {
   "cell_type": "code",
   "execution_count": 237,
   "metadata": {},
   "outputs": [],
   "source": [
    "def run_game(net: DQN) -> int:\n",
    "\tenemy = RandomPlayer(random.randint(0, 10000))\n",
    "\tboard = Board()\n",
    "\twhile board.game_state == GameState.NOT_OVER:\n",
    "\t\twhile board.game_state == GameState.NOT_OVER and board.turn_sign == 1:\n",
    "\t\t\tboard.make_move(*enemy.decide_move(board))\n",
    "\t\twhile board.game_state == GameState.NOT_OVER and board.turn_sign == -1:\n",
    "\t\t\twith torch.no_grad():\n",
    "\t\t\t\tstate_values = max(q_s(net, board), key=lambda x: x.value.item())\n",
    "\t\t\t\tboard.make_move(*state_values.action)\n",
    "\t\n",
    "\tpieces = 0\n",
    "\tfor _, piece in board:\n",
    "\t\tpieces += piece != 0\n",
    "\n",
    "\treturn (1 if board.game_state == GameState(-1) else -1) * pieces"
   ]
  },
  {
   "cell_type": "code",
   "execution_count": 238,
   "metadata": {},
   "outputs": [],
   "source": [
    "max_score = 0\n",
    "backup = None"
   ]
  },
  {
   "cell_type": "code",
   "execution_count": 239,
   "metadata": {},
   "outputs": [
    {
     "name": "stdout",
     "output_type": "stream",
     "text": [
      "13:58:58 Episode 0 finished. 1/40 | 32.0\n",
      "13:58:58 Episode 1 finished. 1/40 | 21.5\n",
      "13:58:58 Episode 2 finished. 1/40 | 17.333333333333332\n",
      "13:58:58 Episode 3 finished. 2/40 | 19.25\n",
      "13:58:58 Episode 4 finished. 3/40 | 20.2\n",
      "13:58:58 Episode 5 finished. 4/40 | 18.666666666666668\n",
      "13:58:58 Episode 6 finished. 5/40 | 17.571428571428573\n",
      "13:58:58 Episode 7 finished. 6/40 | 18.125\n",
      "13:58:58 Episode 8 finished. 6/40 | 19.77777777777778\n",
      "13:59:01 Episode 9 finished. 7/40 | 19.4\n",
      "13:59:01 Episode 10 finished. 8/40 | 18.545454545454547\n",
      "13:59:01 Episode 11 finished. 9/40 | 19.0\n",
      "13:59:04 Episode 12 finished. 10/40 | 18.46153846153846\n",
      "13:59:04 Episode 13 finished. 11/40 | 18.714285714285715\n",
      "13:59:04 Episode 14 finished. 12/40 | 18.133333333333333\n",
      "13:59:06 Episode 15 finished. 13/40 | 17.75\n",
      "13:59:06 Episode 16 finished. 14/40 | 17.764705882352942\n",
      "13:59:06 Episode 17 finished. 14/40 | 17.22222222222222\n",
      "13:59:09 Episode 18 finished. 15/40 | 16.94736842105263\n",
      "13:59:09 Episode 19 finished. 16/40 | 17.15\n",
      "13:59:09 Episode 20 finished. 16/40 | 16.904761904761905\n",
      "13:59:11 Episode 21 finished. 17/40 | 17.454545454545453\n",
      "13:59:11 Episode 22 finished. 18/40 | 17.17391304347826\n",
      "13:59:11 Episode 23 finished. 19/40 | 17.083333333333332\n",
      "13:59:14 Episode 24 finished. 19/40 | 16.76\n",
      "13:59:14 Episode 25 finished. 20/40 | 16.884615384615383\n",
      "13:59:14 Episode 26 finished. 21/40 | 16.88888888888889\n",
      "13:59:16 Episode 27 finished. 22/40 | 16.821428571428573\n",
      "13:59:16 Episode 28 finished. 22/40 | 17.344827586206897\n",
      "13:59:16 Episode 29 finished. 22/40 | 17.233333333333334\n",
      "13:59:19 Episode 30 finished. 23/40 | 17.0\n",
      "13:59:19 Episode 31 finished. 24/40 | 17.09375\n",
      "13:59:19 Episode 32 finished. 25/40 | 16.939393939393938\n",
      "13:59:21 Episode 33 finished. 26/40 | 17.058823529411764\n",
      "13:59:21 Episode 34 finished. 27/40 | 16.885714285714286\n",
      "13:59:21 Episode 35 finished. 28/40 | 16.694444444444443\n",
      "13:59:23 Episode 36 finished. 28/40 | 16.486486486486488\n",
      "13:59:23 Episode 37 finished. 28/40 | 16.31578947368421\n",
      "13:59:24 Episode 38 finished. 29/40 | 16.358974358974358\n",
      "13:59:26 Episode 39 finished. 30/40 | 16.45\n",
      "13:59:26 Episode 40 finished. 29/40 | 16.5609756097561\n",
      "13:59:26 Episode 41 finished. 29/40 | 16.404761904761905\n",
      "13:59:28 Episode 42 finished. 30/40 | 16.348837209302324\n",
      "13:59:28 Episode 43 finished. 30/40 | 16.204545454545453\n",
      "13:59:28 Episode 44 finished. 30/40 | 16.177777777777777\n",
      "13:59:31 Episode 45 finished. 30/40 | 16.065217391304348\n",
      "13:59:31 Episode 46 finished. 29/40 | 16.04255319148936\n",
      "13:59:31 Episode 47 finished. 29/40 | 15.9375\n",
      "13:59:33 Episode 48 finished. 30/40 | 15.795918367346939\n",
      "13:59:33 Episode 49 finished. 30/40 | 15.76\n",
      "13:59:33 Episode 50 finished. 30/40 | 15.686274509803921\n",
      "13:59:36 Episode 51 finished. 30/40 | 15.576923076923077\n",
      "13:59:36 Episode 52 finished. 30/40 | 15.547169811320755\n",
      "13:59:36 Episode 53 finished. 30/40 | 15.425925925925926\n",
      "13:59:38 Episode 54 finished. 30/40 | 15.436363636363636\n",
      "13:59:38 Episode 55 finished. 30/40 | 15.339285714285714\n",
      "13:59:38 Episode 56 finished. 30/40 | 15.263157894736842\n",
      "13:59:41 Episode 57 finished. 30/40 | 15.379310344827585\n",
      "13:59:41 Episode 58 finished. 29/40 | 15.305084745762711\n",
      "13:59:41 Episode 59 finished. 28/40 | 15.2\n",
      "13:59:43 Episode 60 finished. 29/40 | 15.19672131147541\n",
      "13:59:43 Episode 61 finished. 28/40 | 15.080645161290322\n",
      "13:59:43 Episode 62 finished. 27/40 | 15.444444444444445\n",
      "13:59:46 Episode 63 finished. 26/40 | 15.4375\n",
      "13:59:46 Episode 64 finished. 27/40 | 15.461538461538462\n",
      "13:59:46 Episode 65 finished. 27/40 | 15.666666666666666\n",
      "13:59:48 Episode 66 finished. 27/40 | 15.611940298507463\n",
      "13:59:48 Episode 67 finished. 26/40 | 15.661764705882353\n",
      "13:59:48 Episode 68 finished. 27/40 | 15.608695652173912\n",
      "13:59:51 Episode 69 finished. 27/40 | 15.6\n",
      "13:59:51 Episode 70 finished. 27/40 | 15.56338028169014\n",
      "13:59:51 Episode 71 finished. 27/40 | 15.51388888888889\n",
      "13:59:53 Episode 72 finished. 27/40 | 15.452054794520548\n",
      "13:59:53 Episode 73 finished. 26/40 | 15.35135135135135\n",
      "13:59:53 Episode 74 finished. 25/40 | 15.413333333333334\n",
      "13:59:55 Episode 75 finished. 25/40 | 15.355263157894736\n",
      "13:59:56 Episode 76 finished. 26/40 | 15.571428571428571\n",
      "13:59:56 Episode 77 finished. 27/40 | 15.564102564102564\n",
      "13:59:58 Episode 78 finished. 27/40 | 15.518987341772151\n",
      "13:59:58 Episode 79 finished. 27/40 | 15.45\n",
      "13:59:58 Episode 80 finished. 28/40 | 15.419753086419753\n",
      "14:00:00 Episode 81 finished. 29/40 | 15.536585365853659\n",
      "14:00:00 Episode 82 finished. 29/40 | 15.566265060240964\n",
      "14:00:00 Episode 83 finished. 29/40 | 15.69047619047619\n",
      "14:00:03 Episode 84 finished. 29/40 | 15.635294117647058\n",
      "14:00:03 Episode 85 finished. 29/40 | 15.720930232558139\n",
      "14:00:03 Episode 86 finished. 30/40 | 15.666666666666666\n",
      "14:00:05 Episode 87 finished. 30/40 | 15.852272727272727\n",
      "14:00:05 Episode 88 finished. 30/40 | 15.853932584269662\n",
      "14:00:05 Episode 89 finished. 30/40 | 15.811111111111112\n",
      "14:00:08 Episode 90 finished. 30/40 | 16.043956043956044\n",
      "14:00:08 Episode 91 finished. 30/40 | 16.217391304347824\n",
      "14:00:08 Episode 92 finished. 30/40 | 16.21505376344086\n",
      "14:00:11 Episode 93 finished. 30/40 | 16.180851063829788\n",
      "14:00:11 Episode 94 finished. 30/40 | 16.094736842105263\n",
      "14:00:11 Episode 95 finished. 30/40 | 16.125\n",
      "14:00:14 Episode 96 finished. 30/40 | 16.391752577319586\n",
      "14:00:14 Episode 97 finished. 31/40 | 16.387755102040817\n",
      "14:00:14 Episode 98 finished. 32/40 | 16.585858585858585\n",
      "14:00:16 Episode 99 finished. 33/40 | 16.54\n",
      "14:00:16 Episode 100 finished. 33/40 | 16.495049504950494\n",
      "14:00:16 Episode 101 finished. 34/40 | 16.45098039215686\n",
      "14:00:18 Episode 102 finished. 35/40 | 16.388349514563107\n",
      "14:00:18 Episode 103 finished. 36/40 | 16.346153846153847\n",
      "14:00:19 Episode 104 finished. 35/40 | 16.285714285714285\n",
      "14:00:21 Episode 105 finished. 35/40 | 16.245283018867923\n",
      "14:00:21 Episode 106 finished. 34/40 | 16.514018691588785\n",
      "14:00:21 Episode 107 finished. 35/40 | 16.537037037037038\n",
      "14:00:23 Episode 108 finished. 34/40 | 16.53211009174312\n",
      "14:00:23 Episode 109 finished. 35/40 | 16.48181818181818\n",
      "14:00:23 Episode 110 finished. 35/40 | 16.63063063063063\n",
      "14:00:26 Episode 111 finished. 35/40 | 16.651785714285715\n",
      "14:00:26 Episode 112 finished. 34/40 | 16.8141592920354\n",
      "14:00:26 Episode 113 finished. 35/40 | 16.780701754385966\n",
      "14:00:28 Episode 114 finished. 36/40 | 16.730434782608697\n",
      "14:00:28 Episode 115 finished. 35/40 | 16.67241379310345\n",
      "14:00:28 Episode 116 finished. 35/40 | 16.700854700854702\n",
      "14:00:31 Episode 117 finished. 35/40 | 16.73728813559322\n",
      "14:00:31 Episode 118 finished. 35/40 | 16.764705882352942\n",
      "14:00:31 Episode 119 finished. 35/40 | 16.716666666666665\n",
      "14:00:33 Episode 120 finished. 34/40 | 16.669421487603305\n",
      "14:00:33 Episode 121 finished. 34/40 | 16.66393442622951\n",
      "14:00:33 Episode 122 finished. 34/40 | 16.75609756097561\n",
      "14:00:35 Episode 123 finished. 34/40 | 16.717741935483872\n",
      "14:00:35 Episode 124 finished. 34/40 | 16.688\n",
      "14:00:35 Episode 125 finished. 34/40 | 16.634920634920636\n",
      "14:00:38 Episode 126 finished. 33/40 | 16.763779527559056\n",
      "14:00:38 Episode 127 finished. 33/40 | 16.734375\n",
      "14:00:38 Episode 128 finished. 32/40 | 16.868217054263567\n",
      "14:00:40 Episode 129 finished. 32/40 | 16.823076923076922\n",
      "14:00:40 Episode 130 finished. 32/40 | 16.938931297709924\n",
      "14:00:40 Episode 131 finished. 32/40 | 16.924242424242426\n",
      "14:00:43 Episode 132 finished. 32/40 | 16.924812030075188\n",
      "14:00:43 Episode 133 finished. 32/40 | 16.888059701492537\n",
      "14:00:43 Episode 134 finished. 32/40 | 16.955555555555556\n",
      "14:00:45 Episode 135 finished. 32/40 | 16.933823529411764\n",
      "14:00:45 Episode 136 finished. 32/40 | 16.89051094890511\n",
      "14:00:45 Episode 137 finished. 32/40 | 16.847826086956523\n",
      "14:00:47 Episode 138 finished. 31/40 | 16.784172661870503\n",
      "14:00:47 Episode 139 finished. 30/40 | 16.735714285714284\n",
      "14:00:47 Episode 140 finished. 29/40 | 16.69503546099291\n",
      "14:00:50 Episode 141 finished. 29/40 | 16.690140845070424\n",
      "14:00:50 Episode 142 finished. 29/40 | 16.72027972027972\n",
      "14:00:50 Episode 143 finished. 29/40 | 16.680555555555557\n",
      "14:00:52 Episode 144 finished. 29/40 | 16.751724137931035\n",
      "14:00:52 Episode 145 finished. 28/40 | 16.705479452054796\n",
      "14:00:52 Episode 146 finished. 29/40 | 16.68027210884354\n",
      "14:00:54 Episode 147 finished. 29/40 | 16.736486486486488\n",
      "14:00:54 Episode 148 finished. 30/40 | 16.711409395973153\n",
      "14:00:54 Episode 149 finished. 30/40 | 16.653333333333332\n",
      "14:00:57 Episode 150 finished. 30/40 | 16.66887417218543\n",
      "14:00:57 Episode 151 finished. 30/40 | 16.80263157894737\n",
      "14:00:57 Episode 152 finished. 31/40 | 16.751633986928105\n",
      "14:00:59 Episode 153 finished. 31/40 | 16.75974025974026\n",
      "14:00:59 Episode 154 finished. 31/40 | 16.748387096774195\n",
      "14:00:59 Episode 155 finished. 32/40 | 16.78205128205128\n",
      "14:01:01 Episode 156 finished. 32/40 | 16.726114649681527\n",
      "14:01:01 Episode 157 finished. 32/40 | 16.696202531645568\n",
      "14:01:01 Episode 158 finished. 32/40 | 16.654088050314467\n",
      "14:01:04 Episode 159 finished. 31/40 | 16.7625\n",
      "14:01:04 Episode 160 finished. 32/40 | 16.732919254658384\n",
      "14:01:04 Episode 161 finished. 31/40 | 16.685185185185187\n",
      "14:01:06 Episode 162 finished. 30/40 | 16.711656441717793\n",
      "14:01:06 Episode 163 finished. 30/40 | 16.676829268292682\n",
      "14:01:06 Episode 164 finished. 29/40 | 16.78181818181818\n",
      "14:01:08 Episode 165 finished. 29/40 | 16.753012048192772\n",
      "14:01:08 Episode 166 finished. 30/40 | 16.74251497005988\n",
      "14:01:08 Episode 167 finished. 30/40 | 16.732142857142858\n",
      "14:01:11 Episode 168 finished. 31/40 | 16.763313609467456\n",
      "14:01:11 Episode 169 finished. 30/40 | 16.852941176470587\n",
      "14:01:11 Episode 170 finished. 29/40 | 16.82456140350877\n",
      "14:01:13 Episode 171 finished. 29/40 | 16.837209302325583\n",
      "14:01:13 Episode 172 finished. 29/40 | 16.820809248554912\n",
      "14:01:13 Episode 173 finished. 29/40 | 16.7816091954023\n",
      "14:01:15 Episode 174 finished. 29/40 | 16.754285714285714\n",
      "14:01:15 Episode 175 finished. 29/40 | 16.738636363636363\n",
      "14:01:15 Episode 176 finished. 29/40 | 16.728813559322035\n",
      "14:01:18 Episode 177 finished. 29/40 | 16.724719101123597\n",
      "14:01:18 Episode 178 finished. 30/40 | 16.731843575418996\n",
      "14:01:18 Episode 179 finished. 31/40 | 16.705555555555556\n",
      "14:01:20 Episode 180 finished. 32/40 | 16.679558011049725\n",
      "14:01:20 Episode 181 finished. 32/40 | 16.74175824175824\n",
      "14:01:20 Episode 182 finished. 32/40 | 16.759562841530055\n",
      "14:01:22 Episode 183 finished. 32/40 | 16.717391304347824\n",
      "14:01:22 Episode 184 finished. 32/40 | 16.8\n",
      "14:01:23 Episode 185 finished. 33/40 | 16.758064516129032\n",
      "14:01:25 Episode 186 finished. 33/40 | 16.759358288770052\n",
      "14:01:25 Episode 187 finished. 33/40 | 16.74468085106383\n",
      "14:01:25 Episode 188 finished. 33/40 | 16.724867724867725\n",
      "14:01:27 Episode 189 finished. 33/40 | 16.71578947368421\n",
      "14:01:27 Episode 190 finished. 32/40 | 16.869109947643977\n",
      "14:01:27 Episode 191 finished. 32/40 | 16.885416666666668\n",
      "14:01:29 Episode 192 finished. 32/40 | 16.906735751295336\n",
      "14:01:29 Episode 193 finished. 32/40 | 16.917525773195877\n",
      "14:01:30 Episode 194 finished. 32/40 | 16.882051282051282\n",
      "14:01:32 Episode 195 finished. 32/40 | 16.872448979591837\n",
      "14:01:32 Episode 196 finished. 32/40 | 16.86294416243655\n",
      "14:01:32 Episode 197 finished. 32/40 | 16.838383838383837\n",
      "14:01:34 Episode 198 finished. 32/40 | 16.798994974874372\n",
      "14:01:34 Episode 199 finished. 33/40 | 16.76\n",
      "14:01:34 Episode 200 finished. 33/40 | 16.73134328358209\n",
      "14:01:36 Episode 201 finished. 34/40 | 16.747524752475247\n",
      "14:01:36 Episode 202 finished. 35/40 | 16.7192118226601\n",
      "14:01:36 Episode 203 finished. 35/40 | 16.686274509803923\n",
      "14:01:39 Episode 204 finished. 36/40 | 16.71707317073171\n",
      "14:01:39 Episode 205 finished. 36/40 | 16.723300970873787\n",
      "14:01:39 Episode 206 finished. 36/40 | 16.695652173913043\n",
      "14:01:41 Episode 207 finished. 36/40 | 16.66826923076923\n",
      "14:01:41 Episode 208 finished. 36/40 | 16.63157894736842\n",
      "Switching to Q enemy\n",
      "14:01:41 Episode 209 finished. 37/40 | 16.676190476190477\n",
      "14:01:41 Episode 210 finished. 28/40 | 16.72037914691943\n",
      "14:01:41 Episode 211 finished. 28/40 | 16.693396226415093\n",
      "14:01:41 Episode 212 finished. 28/40 | 16.657276995305164\n",
      "14:01:41 Episode 213 finished. 28/40 | 16.621495327102803\n",
      "14:01:42 Episode 214 finished. 28/40 | 16.77674418604651\n",
      "14:01:42 Episode 215 finished. 27/40 | 16.86111111111111\n",
      "14:01:44 Episode 216 finished. 27/40 | 16.82488479262673\n",
      "14:01:44 Episode 217 finished. 27/40 | 16.912844036697248\n",
      "14:01:44 Episode 218 finished. 27/40 | 16.876712328767123\n",
      "14:01:47 Episode 219 finished. 27/40 | 16.85\n",
      "14:01:47 Episode 220 finished. 28/40 | 16.81447963800905\n",
      "14:01:47 Episode 221 finished. 28/40 | 16.77927927927928\n",
      "14:01:50 Episode 222 finished. 27/40 | 16.89237668161435\n",
      "14:01:50 Episode 223 finished. 26/40 | 16.959821428571427\n",
      "14:01:50 Episode 224 finished. 25/40 | 16.986666666666668\n",
      "14:01:52 Episode 225 finished. 25/40 | 16.951327433628318\n",
      "14:01:52 Episode 226 finished. 24/40 | 17.044052863436125\n",
      "14:01:52 Episode 227 finished. 24/40 | 17.00877192982456\n",
      "14:01:55 Episode 228 finished. 24/40 | 17.04366812227074\n",
      "14:01:55 Episode 229 finished. 24/40 | 17.008695652173913\n",
      "14:01:55 Episode 230 finished. 23/40 | 16.965367965367964\n",
      "14:01:57 Episode 231 finished. 23/40 | 16.93103448275862\n",
      "14:01:57 Episode 232 finished. 23/40 | 16.896995708154506\n",
      "14:01:57 Episode 233 finished. 23/40 | 16.867521367521366\n",
      "14:02:00 Episode 234 finished. 22/40 | 16.97872340425532\n",
      "14:02:00 Episode 235 finished. 22/40 | 16.953389830508474\n",
      "14:02:00 Episode 236 finished. 22/40 | 16.91983122362869\n",
      "14:02:02 Episode 237 finished. 22/40 | 16.886554621848738\n",
      "14:02:02 Episode 238 finished. 21/40 | 16.90794979079498\n",
      "14:02:02 Episode 239 finished. 21/40 | 16.879166666666666\n",
      "14:02:05 Episode 240 finished. 22/40 | 16.846473029045644\n",
      "14:02:05 Episode 241 finished. 23/40 | 16.818181818181817\n",
      "14:02:05 Episode 242 finished. 23/40 | 16.88888888888889\n",
      "14:02:07 Episode 243 finished. 24/40 | 16.860655737704917\n",
      "14:02:08 Episode 244 finished. 25/40 | 16.82857142857143\n",
      "14:02:08 Episode 245 finished. 25/40 | 16.808943089430894\n",
      "14:02:10 Episode 246 finished. 26/40 | 16.777327935222672\n",
      "14:02:10 Episode 247 finished. 26/40 | 16.883064516129032\n",
      "14:02:10 Episode 248 finished. 26/40 | 16.95983935742972\n",
      "14:02:13 Episode 249 finished. 27/40 | 16.928\n",
      "14:02:13 Episode 250 finished. 26/40 | 16.904382470119522\n",
      "14:02:13 Episode 251 finished. 25/40 | 16.865079365079364\n",
      "14:02:15 Episode 252 finished. 25/40 | 16.83794466403162\n",
      "14:02:15 Episode 253 finished. 25/40 | 16.80708661417323\n",
      "14:02:15 Episode 254 finished. 26/40 | 16.776470588235295\n",
      "14:02:17 Episode 255 finished. 27/40 | 16.74609375\n",
      "14:02:17 Episode 256 finished. 27/40 | 16.723735408560312\n",
      "14:02:17 Episode 257 finished. 27/40 | 16.6937984496124\n",
      "14:02:20 Episode 258 finished. 27/40 | 16.664092664092664\n",
      "14:02:20 Episode 259 finished. 26/40 | 16.646153846153847\n",
      "14:02:20 Episode 260 finished. 26/40 | 16.61685823754789\n",
      "14:02:22 Episode 261 finished. 25/40 | 16.767175572519083\n",
      "14:02:22 Episode 262 finished. 25/40 | 16.73384030418251\n",
      "14:02:22 Episode 263 finished. 26/40 | 16.708333333333332\n",
      "14:02:24 Episode 264 finished. 27/40 | 16.67924528301887\n",
      "14:02:24 Episode 265 finished. 27/40 | 16.657894736842106\n",
      "14:02:25 Episode 266 finished. 27/40 | 16.760299625468164\n",
      "14:02:27 Episode 267 finished. 27/40 | 16.73507462686567\n",
      "14:02:27 Episode 268 finished. 27/40 | 16.70631970260223\n",
      "14:02:27 Episode 269 finished. 27/40 | 16.68148148148148\n",
      "14:02:29 Episode 270 finished. 28/40 | 16.653136531365313\n",
      "14:02:29 Episode 271 finished. 28/40 | 16.625\n",
      "14:02:29 Episode 272 finished. 28/40 | 16.5970695970696\n",
      "14:02:31 Episode 273 finished. 28/40 | 16.56934306569343\n",
      "14:02:31 Episode 274 finished. 29/40 | 16.545454545454547\n",
      "14:02:31 Episode 275 finished. 29/40 | 16.518115942028984\n",
      "14:02:34 Episode 276 finished. 29/40 | 16.51624548736462\n",
      "14:02:34 Episode 277 finished. 28/40 | 16.57913669064748\n",
      "14:02:34 Episode 278 finished. 29/40 | 16.555555555555557\n",
      "14:02:36 Episode 279 finished. 29/40 | 16.53214285714286\n",
      "14:02:36 Episode 280 finished. 29/40 | 16.505338078291814\n",
      "14:02:36 Episode 281 finished. 29/40 | 16.47872340425532\n",
      "14:02:38 Episode 282 finished. 30/40 | 16.452296819787986\n",
      "14:02:38 Episode 283 finished. 30/40 | 16.426056338028168\n",
      "14:02:38 Episode 284 finished. 30/40 | 16.4\n",
      "14:02:40 Episode 285 finished. 30/40 | 16.426573426573427\n",
      "14:02:41 Episode 286 finished. 30/40 | 16.4006968641115\n",
      "14:02:41 Episode 287 finished. 31/40 | 16.37847222222222\n",
      "14:02:43 Episode 288 finished. 32/40 | 16.352941176470587\n",
      "14:02:43 Episode 289 finished. 32/40 | 16.32758620689655\n",
      "14:02:43 Episode 290 finished. 33/40 | 16.302405498281786\n",
      "14:02:45 Episode 291 finished. 33/40 | 16.36986301369863\n",
      "14:02:45 Episode 292 finished. 33/40 | 16.344709897610922\n",
      "14:02:45 Episode 293 finished. 33/40 | 16.31972789115646\n",
      "14:02:47 Episode 294 finished. 33/40 | 16.29491525423729\n",
      "14:02:47 Episode 295 finished. 33/40 | 16.27027027027027\n",
      "14:02:47 Episode 296 finished. 32/40 | 16.326599326599325\n",
      "14:02:50 Episode 297 finished. 32/40 | 16.302013422818792\n",
      "14:02:50 Episode 298 finished. 32/40 | 16.277591973244146\n",
      "14:02:50 Episode 299 finished. 33/40 | 16.256666666666668\n",
      "14:02:52 Episode 300 finished. 33/40 | 16.232558139534884\n",
      "14:02:52 Episode 301 finished. 34/40 | 16.20860927152318\n",
      "14:02:52 Episode 302 finished. 35/40 | 16.18811881188119\n",
      "14:02:54 Episode 303 finished. 35/40 | 16.167763157894736\n",
      "14:02:54 Episode 304 finished. 35/40 | 16.14426229508197\n",
      "14:02:54 Episode 305 finished. 35/40 | 16.124183006535947\n",
      "14:02:57 Episode 306 finished. 35/40 | 16.185667752442995\n",
      "14:02:57 Episode 307 finished. 35/40 | 16.162337662337663\n",
      "14:02:57 Episode 308 finished. 34/40 | 16.23948220064725\n",
      "14:02:59 Episode 309 finished. 34/40 | 16.216129032258063\n",
      "14:02:59 Episode 310 finished. 34/40 | 16.192926045016076\n",
      "14:02:59 Episode 311 finished. 33/40 | 16.17948717948718\n",
      "14:03:01 Episode 312 finished. 32/40 | 16.233226837060702\n",
      "14:03:02 Episode 313 finished. 32/40 | 16.213375796178344\n",
      "14:03:02 Episode 314 finished. 32/40 | 16.19047619047619\n",
      "14:03:04 Episode 315 finished. 32/40 | 16.167721518987342\n",
      "14:03:04 Episode 316 finished. 31/40 | 16.154574132492115\n",
      "14:03:04 Episode 317 finished. 31/40 | 16.138364779874212\n",
      "14:03:06 Episode 318 finished. 31/40 | 16.115987460815045\n",
      "14:03:06 Episode 319 finished. 31/40 | 16.096875\n",
      "14:03:06 Episode 320 finished. 31/40 | 16.074766355140188\n",
      "14:03:08 Episode 321 finished. 31/40 | 16.0527950310559\n",
      "14:03:08 Episode 322 finished. 31/40 | 16.03095975232198\n",
      "14:03:08 Episode 323 finished. 31/40 | 16.00925925925926\n",
      "14:03:11 Episode 324 finished. 31/40 | 15.990769230769232\n",
      "14:03:11 Episode 325 finished. 32/40 | 15.996932515337424\n",
      "14:03:11 Episode 326 finished. 32/40 | 15.97553516819572\n",
      "14:03:13 Episode 327 finished. 32/40 | 15.954268292682928\n",
      "14:03:13 Episode 328 finished. 32/40 | 15.933130699088146\n",
      "14:03:13 Episode 329 finished. 32/40 | 15.912121212121212\n",
      "14:03:15 Episode 330 finished. 32/40 | 15.891238670694865\n",
      "14:03:15 Episode 331 finished. 33/40 | 15.873493975903614\n",
      "14:03:15 Episode 332 finished. 33/40 | 15.852852852852854\n",
      "14:03:18 Episode 333 finished. 33/40 | 15.832335329341317\n",
      "14:03:18 Episode 334 finished. 32/40 | 15.892537313432836\n",
      "14:03:18 Episode 335 finished. 32/40 | 15.87202380952381\n",
      "14:03:20 Episode 336 finished. 33/40 | 15.85459940652819\n",
      "14:03:20 Episode 337 finished. 33/40 | 15.834319526627219\n",
      "14:03:20 Episode 338 finished. 33/40 | 15.814159292035399\n",
      "14:03:23 Episode 339 finished. 33/40 | 15.794117647058824\n",
      "14:03:23 Episode 340 finished. 33/40 | 15.777126099706745\n",
      "14:03:23 Episode 341 finished. 33/40 | 15.757309941520468\n",
      "14:03:25 Episode 342 finished. 33/40 | 15.740524781341108\n",
      "14:03:25 Episode 343 finished. 33/40 | 15.723837209302326\n",
      "14:03:25 Episode 344 finished. 33/40 | 15.704347826086957\n",
      "14:03:27 Episode 345 finished. 33/40 | 15.684971098265896\n",
      "14:03:27 Episode 346 finished. 34/40 | 15.6657060518732\n",
      "14:03:27 Episode 347 finished. 34/40 | 15.64655172413793\n",
      "14:03:29 Episode 348 finished. 35/40 | 15.627507163323783\n",
      "14:03:29 Episode 349 finished. 35/40 | 15.608571428571429\n",
      "14:03:29 Episode 350 finished. 35/40 | 15.592592592592593\n",
      "14:03:32 Episode 351 finished. 35/40 | 15.647727272727273\n",
      "14:03:32 Episode 352 finished. 36/40 | 15.628895184135978\n",
      "14:03:32 Episode 353 finished. 36/40 | 15.610169491525424\n",
      "14:03:34 Episode 354 finished. 36/40 | 15.591549295774648\n",
      "14:03:34 Episode 355 finished. 36/40 | 15.575842696629213\n",
      "Complete\n"
     ]
    }
   ],
   "source": [
    "num_episodes = 2000\n",
    "memory: list[TransitionRecord] = []\n",
    "\n",
    "win_rate = []\n",
    "number_of_steps = []\n",
    "sum_number_of_steps = 0\n",
    "\n",
    "q_enemy = QLearning(\"ddqn80 90 50 50 1 tuned on ddqn86.pth\")\n",
    "rand_enemy = RandomPlayer(random.randint(0, 1000))\n",
    "use_q_enemy = False\n",
    "\n",
    "for i_episode in range(num_episodes):\n",
    "\t# Initialize the environment and get its state\n",
    "\tcur_state = Board()\n",
    "\tfor _ in range(random.randint(0, 1)):\n",
    "\t\tcur_state.make_move(*rand_enemy.decide_move(cur_state))\n",
    "\t\n",
    "\t# if i_episode < 500:\n",
    "\tif not use_q_enemy:\n",
    "\t\tenemy = rand_enemy\n",
    "\telse:\n",
    "\t\tenemy = q_enemy\n",
    "\t\n",
    "\tour_sign = cur_state.turn_sign\n",
    "\t\n",
    "\tnum_steps = 0\n",
    "\twhile True:\n",
    "\t\tnum_steps += 1\n",
    "\t\taction = select_action(Q_2, cur_state)\n",
    "\t\tnew_state, immediate_reward = make_environment_step(cur_state, action.action, enemy, num_steps)\n",
    "\n",
    "\t\tmemory.append(TransitionRecord(\n",
    "\t\t\tcur_state, new_state,\n",
    "\t\t\ttorch.tensor([immediate_reward], device=device),\n",
    "\t\t\taction.action\n",
    "\t\t))\n",
    "\t\tcur_state = new_state\n",
    "\n",
    "\t\tif cur_state.game_state != GameState.NOT_OVER:\n",
    "\t\t\twin_rate.append(cur_state.game_state == GameState(our_sign))\n",
    "\t\t\tbreak\n",
    "\n",
    "\t# Cropping memory\n",
    "\t# memory = memory[-5000:]\n",
    "\t\n",
    "\tif i_episode % 3 == 0:\n",
    "\t\tfor _ in range(5):\n",
    "\t\t\toptimize_model(memory)\n",
    "\t\t\n",
    "\t\tmove_params(Q_1, Q_2)\n",
    "\n",
    "\tnumber_of_steps.append(num_steps)\n",
    "\tsum_number_of_steps += num_steps\n",
    "\t# stats = [run_game(Q_2) for _ in range(20)]\n",
    "\t# a = sum(win_rate[-20:])\n",
    "\t# b = sum(x > 0 for x in stats)\n",
    "\n",
    "\t# if a * b > max_score:\n",
    "\t# \tmax_score = a * b\n",
    "\t# \tbackup = copy.deepcopy(Q_2)\n",
    "\n",
    "\twin_window = 40\n",
    "\twin_stat = sum(win_rate[-win_window:])\n",
    "\n",
    "\tif not use_q_enemy:\n",
    "\t\tif (win_stat / win_window) > (18/20):\n",
    "\t\t\tuse_q_enemy = True\n",
    "\t\t\tsteps_done = 0\n",
    "\t\t\t# To test on Q enemy a bit\n",
    "\t\t\twin_rate += [0] * 10\n",
    "\t\t\tmemory = []\n",
    "\t\t\tprint(\"Switching to Q enemy\")\n",
    "\telse:\n",
    "\t\tif (win_stat / win_window) > (18/20):\n",
    "\t\t\tbreak\n",
    "\n",
    "\tprint(time.strftime(\"%H:%M:%S\"), f\"Episode {i_episode} finished. {win_stat}/{win_window} | {sum_number_of_steps/len(number_of_steps)}\")\n",
    "\n",
    "print('Complete')"
   ]
  },
  {
   "cell_type": "code",
   "execution_count": 240,
   "metadata": {},
   "outputs": [],
   "source": [
    "from typing import Iterator\n",
    "\n",
    "def window_cum(values: list[int], window: int) -> Iterator[float]:\n",
    "\tvalue = sum(values[:window])\n",
    "\tyield value\n",
    "\tfor i in range(window, len(values)):\n",
    "\t\tvalue += values[i] - values[i - window]\n",
    "\t\tyield value"
   ]
  },
  {
   "cell_type": "code",
   "execution_count": 241,
   "metadata": {},
   "outputs": [
    {
     "data": {
      "text/plain": [
       "[<matplotlib.lines.Line2D at 0x1f3c6927f70>]"
      ]
     },
     "execution_count": 241,
     "metadata": {},
     "output_type": "execute_result"
    },
    {
     "data": {
      "image/png": "[encoded data removed]",
      "text/plain": [
       "<Figure size 640x480 with 1 Axes>"
      ]
     },
     "metadata": {},
     "output_type": "display_data"
    }
   ],
   "source": [
    "from matplotlib import pyplot as plt\n",
    "\n",
    "plt.plot(list(window_cum(win_rate, 40)))"
   ]
  },
  {
   "cell_type": "code",
   "execution_count": 242,
   "metadata": {},
   "outputs": [
    {
     "data": {
      "text/plain": [
       "0.7683923705722071"
      ]
     },
     "execution_count": 242,
     "metadata": {},
     "output_type": "execute_result"
    }
   ],
   "source": [
    "sum(win_rate) / len(win_rate)"
   ]
  },
  {
   "cell_type": "code",
   "execution_count": 243,
   "metadata": {},
   "outputs": [
    {
     "data": {
      "text/plain": [
       "367"
      ]
     },
     "execution_count": 243,
     "metadata": {},
     "output_type": "execute_result"
    }
   ],
   "source": [
    "len(win_rate)"
   ]
  },
  {
   "cell_type": "code",
   "execution_count": 244,
   "metadata": {},
   "outputs": [
    {
     "data": {
      "text/plain": [
       "282"
      ]
     },
     "execution_count": 244,
     "metadata": {},
     "output_type": "execute_result"
    }
   ],
   "source": [
    "sum(win_rate)"
   ]
  },
  {
   "cell_type": "code",
   "execution_count": 245,
   "metadata": {},
   "outputs": [
    {
     "data": {
      "text/plain": [
       "0"
      ]
     },
     "execution_count": 245,
     "metadata": {},
     "output_type": "execute_result"
    }
   ],
   "source": [
    "max_score"
   ]
  },
  {
   "cell_type": "code",
   "execution_count": 246,
   "metadata": {},
   "outputs": [],
   "source": [
    "from matplotlib import pyplot as plt"
   ]
  },
  {
   "cell_type": "code",
   "execution_count": 247,
   "metadata": {},
   "outputs": [
    {
     "data": {
      "text/plain": [
       "(850, 1000)"
      ]
     },
     "execution_count": 247,
     "metadata": {},
     "output_type": "execute_result"
    },
    {
     "data": {
      "image/png": "[encoded data removed]",
      "text/plain": [
       "<Figure size 640x480 with 1 Axes>"
      ]
     },
     "metadata": {},
     "output_type": "display_data"
    }
   ],
   "source": [
    "stats = [run_game(Q_2) for _ in range(1000)]\n",
    "\n",
    "plt.hist(stats)\n",
    "sum(x > 0 for x in stats), len(stats)"
   ]
  },
  {
   "cell_type": "code",
   "execution_count": 248,
   "metadata": {},
   "outputs": [
    {
     "data": {
      "text/plain": [
       "(860, 1000)"
      ]
     },
     "execution_count": 248,
     "metadata": {},
     "output_type": "execute_result"
    },
    {
     "data": {
      "image/png": "[encoded data removed]",
      "text/plain": [
       "<Figure size 640x480 with 1 Axes>"
      ]
     },
     "metadata": {},
     "output_type": "display_data"
    }
   ],
   "source": [
    "stats = [run_game(Q_2) for _ in range(1000)]\n",
    "\n",
    "plt.hist(stats)\n",
    "sum(x > 0 for x in stats), len(stats)"
   ]
  },
  {
   "cell_type": "code",
   "execution_count": 249,
   "metadata": {},
   "outputs": [
    {
     "data": {
      "text/plain": [
       "(860, 1000)"
      ]
     },
     "execution_count": 249,
     "metadata": {},
     "output_type": "execute_result"
    },
    {
     "data": {
      "image/png": "[encoded data removed]",
      "text/plain": [
       "<Figure size 640x480 with 1 Axes>"
      ]
     },
     "metadata": {},
     "output_type": "display_data"
    }
   ],
   "source": [
    "stats = [run_game(Q_2) for _ in range(1000)]\n",
    "\n",
    "plt.hist(stats)\n",
    "sum(x > 0 for x in stats), len(stats)"
   ]
  },
  {
   "cell_type": "code",
   "execution_count": 258,
   "metadata": {},
   "outputs": [],
   "source": [
    "torch.save(Q_2.state_dict(), \"ddqn85 90 50 50 1 q_2 tuned on dqn86.pth based on ddqn87.pth\")"
   ]
  },
  {
   "cell_type": "code",
   "execution_count": 251,
   "metadata": {},
   "outputs": [
    {
     "data": {
      "text/plain": [
       "(868, 1000)"
      ]
     },
     "execution_count": 251,
     "metadata": {},
     "output_type": "execute_result"
    },
    {
     "data": {
      "image/png": "[encoded data removed]",
      "text/plain": [
       "<Figure size 640x480 with 1 Axes>"
      ]
     },
     "metadata": {},
     "output_type": "display_data"
    }
   ],
   "source": [
    "stats = [run_game(Q_1) for _ in range(1000)]\n",
    "\n",
    "plt.hist(stats)\n",
    "sum(x > 0 for x in stats), len(stats)"
   ]
  },
  {
   "cell_type": "code",
   "execution_count": 252,
   "metadata": {},
   "outputs": [
    {
     "data": {
      "text/plain": [
       "(859, 1000)"
      ]
     },
     "execution_count": 252,
     "metadata": {},
     "output_type": "execute_result"
    },
    {
     "data": {
      "image/png": "[encoded data removed]",
      "text/plain": [
       "<Figure size 640x480 with 1 Axes>"
      ]
     },
     "metadata": {},
     "output_type": "display_data"
    }
   ],
   "source": [
    "stats = [run_game(Q_1) for _ in range(1000)]\n",
    "\n",
    "plt.hist(stats)\n",
    "sum(x > 0 for x in stats), len(stats)"
   ]
  },
  {
   "cell_type": "code",
   "execution_count": 253,
   "metadata": {},
   "outputs": [
    {
     "data": {
      "text/plain": [
       "(863, 1000)"
      ]
     },
     "execution_count": 253,
     "metadata": {},
     "output_type": "execute_result"
    },
    {
     "data": {
      "image/png": "[encoded data removed]",
      "text/plain": [
       "<Figure size 640x480 with 1 Axes>"
      ]
     },
     "metadata": {},
     "output_type": "display_data"
    }
   ],
   "source": [
    "stats = [run_game(Q_1) for _ in range(1000)]\n",
    "\n",
    "plt.hist(stats)\n",
    "sum(x > 0 for x in stats), len(stats)"
   ]
  },
  {
   "cell_type": "code",
   "execution_count": 259,
   "metadata": {},
   "outputs": [],
   "source": [
    "torch.save(Q_2.state_dict(), \"ddqn86 90 50 50 1 q_1 tuned on dqn86 based on ddqn87.pth\")"
   ]
  },
  {
   "cell_type": "markdown",
   "metadata": {},
   "source": [
    "We might also want to tune down the exploration rate at this point"
   ]
  },
  {
   "cell_type": "code",
   "execution_count": 255,
   "metadata": {},
   "outputs": [
    {
     "data": {
      "text/plain": [
       "0"
      ]
     },
     "execution_count": 255,
     "metadata": {},
     "output_type": "execute_result"
    }
   ],
   "source": [
    "sum_number_of_steps - sum(number_of_steps[:700])"
   ]
  },
  {
   "cell_type": "code",
   "execution_count": 256,
   "metadata": {},
   "outputs": [
    {
     "data": {
      "text/plain": [
       "0.011122862157093264"
      ]
     },
     "execution_count": 256,
     "metadata": {},
     "output_type": "execute_result"
    }
   ],
   "source": [
    "EPS_END + (EPS_START - EPS_END) * \\\n",
    "\t\tmath.exp(-1. * sum(number_of_steps[:700]) / EPS_DECAY)"
   ]
  },
  {
   "cell_type": "code",
   "execution_count": 257,
   "metadata": {},
   "outputs": [
    {
     "data": {
      "text/plain": [
       "0.011122862157093264"
      ]
     },
     "execution_count": 257,
     "metadata": {},
     "output_type": "execute_result"
    }
   ],
   "source": [
    "EPS_END + (EPS_START - EPS_END) * \\\n",
    "\t\tmath.exp(-1. * sum_number_of_steps / EPS_DECAY)"
   ]
  }
 ],
 "metadata": {
  "kernelspec": {
   "display_name": "Python 3",
   "language": "python",
   "name": "python3"
  },
  "language_info": {
   "codemirror_mode": {
    "name": "ipython",
    "version": 3
   },
   "file_extension": ".py",
   "mimetype": "text/x-python",
   "name": "python",
   "nbconvert_exporter": "python",
   "pygments_lexer": "ipython3",
   "version": "3.10.16"
  }
 },
 "nbformat": 4,
 "nbformat_minor": 2
}
