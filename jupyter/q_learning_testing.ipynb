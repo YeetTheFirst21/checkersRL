{
 "cells": [
  {
   "cell_type": "code",
   "execution_count": 2,
   "metadata": {},
   "outputs": [],
   "source": [
    "# https://pytorch.org/tutorials/intermediate/reinforcement_q_learning.html\n",
    "\n",
    "import torch\n",
    "import torch.nn as nn\n",
    "import torch.optim as optim\n",
    "import torch.nn.functional as F"
   ]
  },
  {
   "cell_type": "code",
   "execution_count": 3,
   "metadata": {},
   "outputs": [],
   "source": [
    "import math\n",
    "import copy\n",
    "import random\n",
    "from dataclasses import dataclass"
   ]
  },
  {
   "cell_type": "code",
   "execution_count": 34,
   "metadata": {},
   "outputs": [],
   "source": [
    "from algo.dynamicProgramming import dynamicPlayer\n",
    "from algo.iplayer import RandomPlayer, IPlayer\n",
    "from algo.q_learning import QLearning\n",
    "from algo.board import Board, GameState"
   ]
  },
  {
   "cell_type": "code",
   "execution_count": 5,
   "metadata": {},
   "outputs": [
    {
     "data": {
      "text/plain": [
       "device(type='cpu')"
      ]
     },
     "execution_count": 5,
     "metadata": {},
     "output_type": "execute_result"
    }
   ],
   "source": [
    "device = torch.device(\n",
    "    # \"cuda\" if torch.cuda.is_available() else\n",
    "    # \"mps\" if torch.backends.mps.is_available() else\n",
    "    \"cpu\"\n",
    ")\n",
    "device"
   ]
  },
  {
   "cell_type": "code",
   "execution_count": 26,
   "metadata": {},
   "outputs": [],
   "source": [
    "class DQN(nn.Module):\n",
    "\t\"\"\"\n",
    "\tUsing structure similar to NNUE:\n",
    "\thttps://www.chessprogramming.org/File:StockfishNNUELayers.png\n",
    "\t\n",
    "\tObservation space: hot-encoded board:\n",
    "\tfor each of 18 cells we can be -2, -1, 0, 1, 2 (5 possibilities).\n",
    "\tIn total it gives 18 * 5 = 90 possible inputs, out of which at most 12 are on.\n",
    "\t\n",
    "\t# Action space: 4 possible actions.\n",
    "\tValue function: 1 output. # https://www.reddit.com/r/reinforcementlearning/comments/1b1te73/help_me_understand_why_use_a_policy_net_instead/\n",
    "\t\"\"\"\n",
    "\n",
    "\tdef __init__(self, layer_sizes: list[int]) -> None:\n",
    "\t\tsuper(DQN, self).__init__()\n",
    "\n",
    "\t\tlayers = []\n",
    "\t\tprev_size = layer_sizes[0]\n",
    "\t\tfor cur_size in layer_sizes[1:]:\n",
    "\t\t\tlayers.append(nn.Linear(prev_size, cur_size))\n",
    "\t\t\tprev_size = cur_size\n",
    "\n",
    "\t\tself.layers = nn.ModuleList(layers)\n",
    "\n",
    "\tdef forward(self, board: Board) -> torch.Tensor:\n",
    "\t\tstate = board.to_tensor(device)\n",
    "\t\tfor layer in self.layers[:-1]:\n",
    "\t\t\tstate = F.relu(layer(state))\n",
    "\t\treturn self.layers[-1](state)"
   ]
  },
  {
   "cell_type": "code",
   "execution_count": 15,
   "metadata": {},
   "outputs": [],
   "source": [
    "def make_environment_step(state: Board, action: tuple[tuple[int, int], tuple[int, int]], enemy: IPlayer) -> tuple[Board, torch.Tensor]:\n",
    "\t\"\"\"\n",
    "\tReturns new state and reward for the given action.\n",
    "\t\"\"\"\n",
    "\tstate = copy.deepcopy(state)\n",
    "\tcur_sign = state.turn_sign\n",
    "\twe_captured = state.make_move(*action) * cur_sign\n",
    "\tenemy_captured = 0\n",
    "\twhile state.game_state == GameState.NOT_OVER and state.turn_sign != cur_sign:\n",
    "\t\tenemy_captured += state.make_move(*enemy.decide_move(state)) * cur_sign * (-1)\n",
    "\t\t\n",
    "\treward = we_captured - enemy_captured\n",
    "\tif state.game_state != GameState.NOT_OVER:\n",
    "\t\tour_pieces = 0\n",
    "\t\tenemy_pieces = 0\n",
    "\t\tfor _, piece in state:\n",
    "\t\t\tif piece == cur_sign:\n",
    "\t\t\t\tour_pieces += 1\n",
    "\t\t\telif piece == -cur_sign:\n",
    "\t\t\t\tenemy_pieces += 1\n",
    "\t\t\telif piece == 2 * cur_sign:\n",
    "\t\t\t\tour_pieces += 2\n",
    "\t\t\telif piece == -2 * cur_sign:\n",
    "\t\t\t\tenemy_pieces += 2\n",
    "\t\t\t\n",
    "\t\treward += 3 * our_pieces / (enemy_pieces + 1)\n",
    "\n",
    "\t\tif state.game_state == GameState.DRAW:\n",
    "\t\t\treward -= 40\n",
    "\t\telif state.game_state == GameState(cur_sign):\n",
    "\t\t\treward += 40\n",
    "\t\telif state.game_state == GameState(-cur_sign):\n",
    "\t\t\treward -= 40\n",
    "\t\telse:\n",
    "\t\t\traise ValueError(\"Unexpected game state\")\n",
    "\t\n",
    "\treturn state, torch.Tensor([reward])"
   ]
  },
  {
   "cell_type": "code",
   "execution_count": 11,
   "metadata": {},
   "outputs": [],
   "source": [
    "GAMMA = 0.99 # discount rate\n",
    "\n",
    "@dataclass\n",
    "class Action:\n",
    "\taction: tuple[tuple[int, int], tuple[int, int]]\n",
    "\tvalue: torch.Tensor\n",
    "\n",
    "def q_s(dqn: DQN, current_state: Board) -> list[Action]:\n",
    "\t\"\"\"\n",
    "\tReturn: list[(new_state, action, immediate_reward, value)]\n",
    "\t\"\"\"\n",
    "\tret: list[Action] = []\n",
    "\tfor s in current_state.get_possible_pos():\n",
    "\t\tfor e in current_state.get_correct_moves(s):\n",
    "\t\t\tnext_state = copy.deepcopy(current_state)\n",
    "\t\t\timmediate_reward = torch.tensor([next_state.make_move(s, e) * next_state.turn_sign], device=device)\n",
    "\t\t\tvalue = dqn(next_state) * GAMMA + immediate_reward\n",
    "\t\t\tret.append(Action((s, e), value))\n",
    "\treturn ret"
   ]
  },
  {
   "cell_type": "code",
   "execution_count": 17,
   "metadata": {},
   "outputs": [],
   "source": [
    "BATCH_SIZE = 128 # number of transitions sampled from the replay buffer\n",
    "\n",
    "EPS_START = 0.05 # exploration rate\n",
    "EPS_END = 0.05\n",
    "EPS_DECAY = 1000\n",
    "TAU = 0.005 # update rate\n",
    "LR = 1e-4 # AdamW learning rate\n",
    "\n",
    "policy_net = DQN().to(device) # to be updated often\n",
    "target_net = DQN().to(device) # to be updated with TAU\n",
    "# policy_net.load_state_dict(torch.load(\"dqn80.pth\"))\n",
    "target_net.load_state_dict(policy_net.state_dict())\n",
    "\n",
    "optimizer = optim.AdamW(policy_net.parameters(), lr=LR, amsgrad=True)\n",
    "steps_done = 0\n",
    "\n",
    "\n",
    "def select_action(board: Board) -> Action:\n",
    "\tglobal steps_done\n",
    "\tsample = random.random()\n",
    "\teps_threshold = EPS_END + (EPS_START - EPS_END) * \\\n",
    "\t\tmath.exp(-1. * steps_done / EPS_DECAY)\n",
    "\tsteps_done += 1\n",
    "\tif sample > eps_threshold:\n",
    "\t\twith torch.no_grad():\n",
    "\t\t\tstate_values = q_s(policy_net, board)\n",
    "\t\t\treturn max(state_values, key=lambda x: x.value.item())\n",
    "\t\t\t\t\t\n",
    "\telse:\n",
    "\t\tpossible_moves = []\n",
    "\t\tfor s in board.get_possible_pos():\n",
    "\t\t\tfor e in board.get_correct_moves(s):\n",
    "\t\t\t\tpossible_moves.append((s, e))\n",
    "\t\treturn Action(\n",
    "\t\t\trandom.choice(possible_moves),\n",
    "\t\t\ttorch.tensor([0], device=device)\n",
    "\t\t)"
   ]
  },
  {
   "cell_type": "code",
   "execution_count": 18,
   "metadata": {},
   "outputs": [],
   "source": [
    "@dataclass\n",
    "class TransitionRecord:\n",
    "\tcurrent_state: Board\n",
    "\tnext_state: Board\n",
    "\timmediate_reward: torch.Tensor\n",
    "\n",
    "def optimize_model(memory: list[TransitionRecord]):\n",
    "\tif len(memory) < BATCH_SIZE:\n",
    "\t\treturn\n",
    "\t\n",
    "\tstate_action_values = []\n",
    "\texpected_state_action_values = []\n",
    "\n",
    "\tfor r in random.sample(memory, BATCH_SIZE):\n",
    "\t\t# Compute Q(s_t, a) - the model computes Q(s_t), then we select the\n",
    "\t\t# columns of actions taken. These are the actions which would've been taken\n",
    "\t\t# for each batch state according to policy_net\n",
    "\t\tstate_action_values.append(max(q_s(policy_net, r.current_state), key=lambda x: x.value.item()).value)\n",
    "\n",
    "\t\t# Compute V(s_{t+1}) for all next states.\n",
    "\t\t# Expected values of actions for non_final_next_states are computed based\n",
    "\t\t# on the \"older\" target_net; selecting their best reward with max(1).values\n",
    "\t\t# This is merged based on the mask, such that we'll have either the expected\n",
    "\t\t# state value or 0 in case the state was final.\n",
    "\t\tnext_state_value = 0\n",
    "\t\tif r.next_state.game_state == GameState.NOT_OVER:\n",
    "\t\t\twith torch.no_grad():\n",
    "\t\t\t\tnext_state_value = max(q_s(target_net, r.next_state), key=lambda x: x.value.item()).value\n",
    "\t\t# Compute the expected Q values\n",
    "\t\texpected_state_action_values.append((next_state_value * GAMMA) + r.immediate_reward)\n",
    "\n",
    "\t# Compute Huber loss\n",
    "\tcriterion = nn.SmoothL1Loss()\n",
    "\tloss = criterion(\n",
    "\t\ttorch.cat(state_action_values),\n",
    "\t\ttorch.cat(expected_state_action_values)\n",
    "\t)\n",
    "\n",
    "\t# Optimize the model\n",
    "\toptimizer.zero_grad()\n",
    "\tloss.backward()\n",
    "\t# In-place gradient clipping\n",
    "\ttorch.nn.utils.clip_grad_value_(policy_net.parameters(), 100)\n",
    "\toptimizer.step()"
   ]
  },
  {
   "cell_type": "code",
   "execution_count": 29,
   "metadata": {},
   "outputs": [],
   "source": [
    "from typing import Optional\n",
    "\n",
    "def run_game(net: DQN, enemy: Optional[IPlayer] = None) -> int:\n",
    "\tif not enemy:\n",
    "\t\tenemy = RandomPlayer(random.randint(0, 10000))\n",
    "\tboard = Board()\n",
    "\twhile board.game_state == GameState.NOT_OVER:\n",
    "\t\twhile board.game_state == GameState.NOT_OVER and board.turn_sign == 1:\n",
    "\t\t\tboard.make_move(*enemy.decide_move(board))\n",
    "\t\twhile board.game_state == GameState.NOT_OVER and board.turn_sign == -1:\n",
    "\t\t\twith torch.no_grad():\n",
    "\t\t\t\tstate_values = max(q_s(net, board), key=lambda x: x.value.item())\n",
    "\t\t\t\tboard.make_move(*state_values.action)\n",
    "\t\n",
    "\tpieces = 0\n",
    "\tfor _, piece in board:\n",
    "\t\tpieces += piece != 0\n",
    "\n",
    "\treturn (1 if board.game_state == GameState(-1) else -1) * pieces"
   ]
  },
  {
   "cell_type": "code",
   "execution_count": null,
   "metadata": {},
   "outputs": [
    {
     "name": "stdout",
     "output_type": "stream",
     "text": [
      "Episode 0 finished. 1/20 | 6/20  10.0\n",
      "Episode 1 finished. 2/20 | 9/20  11.0\n",
      "Episode 2 finished. 3/20 | 12/20  13.666666666666666\n",
      "Episode 3 finished. 4/20 | 12/20  13.75\n",
      "Episode 4 finished. 4/20 | 10/20  18.0\n",
      "Episode 5 finished. 5/20 | 8/20  17.666666666666668\n",
      "Episode 6 finished. 6/20 | 10/20  16.714285714285715\n",
      "Episode 7 finished. 6/20 | 7/20  15.75\n",
      "Episode 8 finished. 6/20 | 11/20  16.22222222222222\n",
      "Episode 9 finished. 7/20 | 6/20  16.2\n",
      "Episode 10 finished. 7/20 | 8/20  15.909090909090908\n",
      "Episode 11 finished. 8/20 | 10/20  15.583333333333334\n",
      "Episode 12 finished. 9/20 | 8/20  16.46153846153846\n",
      "Episode 13 finished. 9/20 | 9/20  17.857142857142858\n",
      "Episode 14 finished. 10/20 | 7/20  18.133333333333333\n",
      "Episode 15 finished. 10/20 | 11/20  18.0625\n",
      "Episode 16 finished. 11/20 | 10/20  18.176470588235293\n",
      "Episode 17 finished. 11/20 | 14/20  18.27777777777778\n",
      "Episode 18 finished. 11/20 | 14/20  17.789473684210527\n",
      "Episode 19 finished. 12/20 | 9/20  17.85\n",
      "Episode 20 finished. 11/20 | 9/20  17.80952380952381\n",
      "Episode 21 finished. 11/20 | 9/20  17.636363636363637\n",
      "Episode 22 finished. 11/20 | 12/20  17.347826086956523\n",
      "Episode 23 finished. 10/20 | 10/20  17.75\n",
      "Episode 24 finished. 10/20 | 6/20  18.12\n",
      "Episode 25 finished. 10/20 | 9/20  18.153846153846153\n",
      "Episode 26 finished. 9/20 | 12/20  17.77777777777778\n",
      "Episode 27 finished. 9/20 | 11/20  18.428571428571427\n",
      "Episode 28 finished. 10/20 | 9/20  18.517241379310345\n",
      "Episode 29 finished. 10/20 | 8/20  18.333333333333332\n",
      "Episode 30 finished. 10/20 | 12/20  18.483870967741936\n",
      "Episode 31 finished. 9/20 | 8/20  18.3125\n",
      "Episode 32 finished. 9/20 | 11/20  18.424242424242426\n",
      "Episode 33 finished. 10/20 | 11/20  18.470588235294116\n",
      "Episode 34 finished. 10/20 | 12/20  18.514285714285716\n",
      "Episode 35 finished. 11/20 | 9/20  18.25\n",
      "Episode 36 finished. 11/20 | 7/20  18.0\n",
      "Episode 37 finished. 11/20 | 6/20  17.789473684210527\n",
      "Episode 38 finished. 11/20 | 8/20  18.333333333333332\n",
      "Episode 39 finished. 10/20 | 13/20  18.775\n",
      "Episode 40 finished. 11/20 | 11/20  18.5609756097561\n",
      "Episode 41 finished. 11/20 | 16/20  18.547619047619047\n",
      "Episode 42 finished. 11/20 | 10/20  18.930232558139537\n",
      "Episode 43 finished. 11/20 | 8/20  19.09090909090909\n",
      "Episode 44 finished. 11/20 | 9/20  19.244444444444444\n",
      "Episode 45 finished. 10/20 | 6/20  19.369565217391305\n",
      "Episode 46 finished. 11/20 | 11/20  19.29787234042553\n",
      "Episode 47 finished. 11/20 | 12/20  19.145833333333332\n",
      "Episode 48 finished. 11/20 | 7/20  19.387755102040817\n",
      "Episode 49 finished. 10/20 | 8/20  19.72\n",
      "Episode 50 finished. 11/20 | 7/20  19.568627450980394\n",
      "Episode 51 finished. 12/20 | 10/20  19.48076923076923\n",
      "Episode 52 finished. 12/20 | 11/20  19.32075471698113\n",
      "Episode 53 finished. 11/20 | 10/20  19.166666666666668\n",
      "Episode 54 finished. 10/20 | 6/20  19.072727272727274\n",
      "Episode 55 finished. 10/20 | 12/20  18.928571428571427\n",
      "Episode 56 finished. 10/20 | 11/20  18.80701754385965\n",
      "Episode 57 finished. 10/20 | 12/20  18.637931034482758\n",
      "Episode 58 finished. 10/20 | 11/20  18.8135593220339\n",
      "Episode 59 finished. 11/20 | 12/20  18.7\n",
      "Episode 60 finished. 10/20 | 10/20  18.81967213114754\n",
      "Episode 61 finished. 10/20 | 8/20  19.322580645161292\n",
      "Episode 62 finished. 9/20 | 12/20  19.285714285714285\n",
      "Episode 63 finished. 10/20 | 10/20  19.125\n",
      "Episode 64 finished. 11/20 | 10/20  19.015384615384615\n",
      "Episode 65 finished. 11/20 | 11/20  18.848484848484848\n",
      "Episode 66 finished. 11/20 | 11/20  19.01492537313433\n",
      "Episode 67 finished. 12/20 | 8/20  19.044117647058822\n",
      "Episode 68 finished. 11/20 | 12/20  18.91304347826087\n",
      "Episode 69 finished. 11/20 | 12/20  18.785714285714285\n",
      "Episode 70 finished. 10/20 | 12/20  18.87323943661972\n",
      "Episode 71 finished. 9/20 | 6/20  18.86111111111111\n",
      "Episode 72 finished. 9/20 | 8/20  18.726027397260275\n",
      "Episode 73 finished. 10/20 | 13/20  18.756756756756758\n",
      "Episode 74 finished. 11/20 | 10/20  18.653333333333332\n",
      "Episode 75 finished. 10/20 | 9/20  18.539473684210527\n",
      "Episode 76 finished. 9/20 | 7/20  18.584415584415584\n",
      "Episode 77 finished. 10/20 | 8/20  18.487179487179485\n",
      "Episode 78 finished. 11/20 | 14/20  18.367088607594937\n",
      "Episode 79 finished. 11/20 | 15/20  18.25\n",
      "Episode 80 finished. 12/20 | 13/20  18.14814814814815\n",
      "Episode 81 finished. 12/20 | 13/20  18.073170731707318\n",
      "Episode 82 finished. 13/20 | 10/20  18.048192771084338\n",
      "Episode 83 finished. 13/20 | 7/20  17.964285714285715\n",
      "Episode 84 finished. 13/20 | 15/20  18.129411764705882\n",
      "Episode 85 finished. 13/20 | 9/20  18.162790697674417\n",
      "Episode 86 finished. 12/20 | 10/20  18.137931034482758\n",
      "Episode 87 finished. 11/20 | 6/20  18.21590909090909\n",
      "Episode 88 finished. 12/20 | 9/20  18.123595505617978\n",
      "Episode 89 finished. 13/20 | 10/20  18.31111111111111\n",
      "Episode 90 finished. 13/20 | 13/20  18.21978021978022\n",
      "Episode 91 finished. 13/20 | 11/20  18.130434782608695\n",
      "Episode 92 finished. 13/20 | 13/20  18.182795698924732\n",
      "Episode 93 finished. 12/20 | 18/20  18.425531914893618\n",
      "Episode 94 finished. 12/20 | 11/20  18.410526315789475\n",
      "Episode 95 finished. 12/20 | 11/20  18.635416666666668\n",
      "Episode 96 finished. 13/20 | 12/20  18.7319587628866\n",
      "Episode 97 finished. 12/20 | 13/20  18.76530612244898\n",
      "Episode 98 finished. 11/20 | 10/20  18.737373737373737\n",
      "Episode 99 finished. 10/20 | 14/20  19.25\n",
      "Episode 100 finished. 10/20 | 11/20  19.15841584158416\n",
      "Episode 101 finished. 9/20 | 9/20  19.147058823529413\n",
      "Episode 102 finished. 9/20 | 11/20  19.223300970873787\n",
      "Episode 103 finished. 9/20 | 9/20  19.16346153846154\n",
      "Episode 104 finished. 8/20 | 13/20  19.057142857142857\n",
      "Episode 105 finished. 8/20 | 16/20  19.028301886792452\n",
      "Episode 106 finished. 9/20 | 8/20  19.018691588785046\n",
      "Episode 107 finished. 10/20 | 12/20  19.037037037037038\n",
      "Episode 108 finished. 9/20 | 14/20  19.10091743119266\n",
      "Episode 109 finished. 9/20 | 9/20  19.09090909090909\n",
      "Episode 110 finished. 9/20 | 13/20  19.00900900900901\n",
      "Episode 111 finished. 9/20 | 13/20  19.178571428571427\n",
      "Episode 112 finished. 9/20 | 13/20  19.115044247787612\n",
      "Episode 113 finished. 10/20 | 10/20  19.07894736842105\n",
      "Episode 114 finished. 9/20 | 13/20  18.991304347826087\n",
      "Episode 115 finished. 10/20 | 14/20  18.95689655172414\n",
      "Episode 116 finished. 9/20 | 10/20  18.931623931623932\n",
      "Episode 117 finished. 10/20 | 12/20  19.059322033898304\n",
      "Episode 118 finished. 11/20 | 12/20  19.008403361344538\n",
      "Episode 119 finished. 12/20 | 10/20  19.191666666666666\n",
      "Episode 120 finished. 12/20 | 8/20  19.264462809917354\n",
      "Episode 121 finished. 12/20 | 10/20  19.18032786885246\n",
      "Episode 122 finished. 12/20 | 9/20  19.121951219512194\n",
      "Episode 123 finished. 12/20 | 10/20  19.048387096774192\n",
      "Episode 124 finished. 12/20 | 11/20  18.96\n",
      "Episode 125 finished. 12/20 | 11/20  18.952380952380953\n",
      "Episode 126 finished. 12/20 | 11/20  18.89763779527559\n",
      "Episode 127 finished. 12/20 | 13/20  19.0546875\n",
      "Episode 128 finished. 13/20 | 14/20  18.984496124031008\n",
      "Episode 129 finished. 13/20 | 13/20  18.915384615384614\n",
      "Episode 130 finished. 13/20 | 13/20  18.931297709923665\n",
      "Episode 131 finished. 13/20 | 11/20  19.068181818181817\n",
      "Episode 132 finished. 12/20 | 14/20  18.992481203007518\n",
      "Episode 133 finished. 12/20 | 11/20  18.940298507462686\n",
      "Episode 134 finished. 13/20 | 11/20  19.007407407407406\n",
      "Episode 135 finished. 12/20 | 11/20  18.99264705882353\n",
      "Episode 136 finished. 13/20 | 12/20  18.970802919708028\n",
      "Episode 137 finished. 12/20 | 10/20  18.985507246376812\n",
      "Episode 138 finished. 12/20 | 9/20  18.92086330935252\n",
      "Episode 139 finished. 11/20 | 14/20  18.914285714285715\n",
      "Episode 140 finished. 11/20 | 13/20  19.05673758865248\n",
      "Episode 141 finished. 12/20 | 10/20  18.992957746478872\n",
      "Episode 142 finished. 12/20 | 8/20  18.944055944055943\n",
      "Episode 143 finished. 12/20 | 7/20  19.118055555555557\n",
      "Episode 144 finished. 13/20 | 12/20  19.103448275862068\n",
      "Episode 145 finished. 13/20 | 15/20  19.04794520547945\n",
      "Episode 146 finished. 13/20 | 13/20  19.0\n",
      "Episode 147 finished. 12/20 | 6/20  19.06081081081081\n",
      "Episode 148 finished. 11/20 | 14/20  18.993288590604028\n",
      "Episode 149 finished. 11/20 | 10/20  18.98\n",
      "Episode 150 finished. 11/20 | 14/20  18.966887417218544\n",
      "Episode 151 finished. 11/20 | 14/20  19.092105263157894\n",
      "Episode 152 finished. 11/20 | 11/20  19.11764705882353\n",
      "Episode 153 finished. 10/20 | 12/20  19.045454545454547\n",
      "Episode 154 finished. 9/20 | 9/20  18.974193548387095\n",
      "Episode 155 finished. 9/20 | 9/20  18.916666666666668\n",
      "Episode 156 finished. 8/20 | 10/20  19.019108280254777\n",
      "Episode 157 finished. 8/20 | 13/20  18.955696202531644\n",
      "Episode 158 finished. 8/20 | 9/20  18.949685534591193\n",
      "Episode 159 finished. 9/20 | 11/20  19.11875\n",
      "Episode 160 finished. 9/20 | 10/20  19.062111801242235\n",
      "Episode 161 finished. 9/20 | 11/20  19.02469135802469\n",
      "Episode 162 finished. 9/20 | 13/20  19.073619631901842\n",
      "Episode 163 finished. 9/20 | 10/20  19.103658536585368\n",
      "Episode 164 finished. 9/20 | 11/20  19.048484848484847\n",
      "Episode 165 finished. 9/20 | 14/20  19.0\n",
      "Episode 166 finished. 9/20 | 16/20  19.095808383233532\n",
      "Episode 167 finished. 10/20 | 13/20  19.142857142857142\n",
      "Episode 168 finished. 10/20 | 12/20  19.16568047337278\n",
      "Episode 169 finished. 10/20 | 14/20  19.17058823529412\n",
      "Episode 170 finished. 11/20 | 8/20  19.216374269005847\n",
      "Episode 171 finished. 11/20 | 14/20  19.151162790697676\n",
      "Episode 172 finished. 12/20 | 13/20  19.09826589595376\n",
      "Episode 173 finished. 13/20 | 6/20  19.10919540229885\n",
      "Episode 174 finished. 14/20 | 12/20  19.057142857142857\n",
      "Episode 175 finished. 14/20 | 10/20  19.005681818181817\n",
      "Episode 176 finished. 14/20 | 12/20  19.016949152542374\n",
      "Episode 177 finished. 15/20 | 13/20  19.073033707865168\n",
      "Episode 178 finished. 15/20 | 11/20  19.106145251396647\n",
      "Episode 179 finished. 14/20 | 11/20  19.2\n",
      "Episode 180 finished. 14/20 | 12/20  19.14364640883978\n",
      "Episode 181 finished. 14/20 | 14/20  19.10989010989011\n",
      "Episode 182 finished. 13/20 | 11/20  19.060109289617486\n",
      "Episode 183 finished. 13/20 | 11/20  19.005434782608695\n",
      "Episode 184 finished. 13/20 | 9/20  18.983783783783785\n",
      "Episode 185 finished. 13/20 | 8/20  19.00537634408602\n",
      "Episode 186 finished. 13/20 | 11/20  18.967914438502675\n",
      "Episode 187 finished. 13/20 | 12/20  19.01595744680851\n",
      "Episode 188 finished. 14/20 | 15/20  19.063492063492063\n",
      "Episode 189 finished. 13/20 | 11/20  19.073684210526316\n",
      "Episode 190 finished. 13/20 | 11/20  19.036649214659686\n",
      "Episode 191 finished. 14/20 | 10/20  19.015625\n",
      "Episode 192 finished. 13/20 | 10/20  19.10880829015544\n",
      "Episode 193 finished. 12/20 | 10/20  19.061855670103093\n",
      "Episode 194 finished. 12/20 | 12/20  19.02051282051282\n",
      "Episode 195 finished. 13/20 | 16/20  19.0765306122449\n",
      "Episode 196 finished. 14/20 | 14/20  19.050761421319798\n",
      "Episode 197 finished. 13/20 | 10/20  18.994949494949495\n",
      "Episode 198 finished. 12/20 | 11/20  19.035175879396984\n",
      "Episode 199 finished. 13/20 | 13/20  19.02\n",
      "Episode 200 finished. 13/20 | 12/20  19.019900497512438\n",
      "Episode 201 finished. 13/20 | 14/20  18.995049504950494\n",
      "Episode 202 finished. 14/20 | 13/20  18.95566502463054\n",
      "Episode 203 finished. 14/20 | 12/20  19.00980392156863\n",
      "Episode 204 finished. 13/20 | 15/20  19.01951219512195\n",
      "Episode 205 finished. 14/20 | 8/20  19.0\n",
      "Episode 206 finished. 13/20 | 11/20  18.956521739130434\n",
      "Episode 207 finished. 13/20 | 12/20  18.927884615384617\n",
      "Episode 208 finished. 12/20 | 10/20  18.875598086124402\n",
      "Episode 209 finished. 13/20 | 13/20  18.9\n",
      "Episode 210 finished. 13/20 | 8/20  18.9478672985782\n",
      "Episode 211 finished. 12/20 | 9/20  18.89622641509434\n",
      "Episode 212 finished. 13/20 | 11/20  18.859154929577464\n",
      "Episode 213 finished. 14/20 | 12/20  18.901869158878505\n",
      "Episode 214 finished. 14/20 | 11/20  18.855813953488372\n",
      "Episode 215 finished. 13/20 | 13/20  18.810185185185187\n",
      "Episode 216 finished. 12/20 | 8/20  18.806451612903224\n",
      "Episode 217 finished. 13/20 | 14/20  18.779816513761467\n",
      "Episode 218 finished. 13/20 | 14/20  18.894977168949772\n",
      "Episode 219 finished. 13/20 | 14/20  18.904545454545456\n",
      "Episode 220 finished. 12/20 | 12/20  19.004524886877828\n",
      "Episode 221 finished. 12/20 | 13/20  19.036036036036037\n",
      "Episode 222 finished. 12/20 | 10/20  19.004484304932735\n",
      "Episode 223 finished. 12/20 | 11/20  19.022321428571427\n",
      "Episode 224 finished. 13/20 | 13/20  18.986666666666668\n",
      "Episode 225 finished. 13/20 | 8/20  19.008849557522122\n",
      "Episode 226 finished. 14/20 | 11/20  18.986784140969164\n",
      "Episode 227 finished. 14/20 | 14/20  18.95614035087719\n",
      "Episode 228 finished. 15/20 | 18/20  18.91703056768559\n",
      "Episode 229 finished. 15/20 | 9/20  18.895652173913042\n",
      "Episode 230 finished. 15/20 | 8/20  18.87012987012987\n",
      "Episode 231 finished. 16/20 | 12/20  18.849137931034484\n",
      "Episode 232 finished. 16/20 | 13/20  18.815450643776824\n",
      "Episode 233 finished. 16/20 | 13/20  18.78205128205128\n",
      "Episode 234 finished. 16/20 | 13/20  18.8\n",
      "Episode 235 finished. 17/20 | 12/20  18.8135593220339\n",
      "Episode 236 finished. 17/20 | 15/20  18.76793248945148\n",
      "Episode 237 finished. 17/20 | 7/20  18.80252100840336\n",
      "Episode 238 finished. 18/20 | 9/20  18.782426778242677\n",
      "Episode 239 finished. 18/20 | 12/20  18.770833333333332\n",
      "Episode 240 finished. 19/20 | 9/20  18.767634854771785\n",
      "Episode 241 finished. 19/20 | 10/20  18.727272727272727\n",
      "Episode 242 finished. 18/20 | 12/20  18.68312757201646\n",
      "Episode 243 finished. 18/20 | 11/20  18.692622950819672\n",
      "Episode 244 finished. 18/20 | 12/20  18.66938775510204\n",
      "Episode 245 finished. 18/20 | 10/20  18.646341463414632\n",
      "Episode 246 finished. 18/20 | 11/20  18.619433198380566\n",
      "Episode 247 finished. 18/20 | 13/20  18.58467741935484\n",
      "Episode 248 finished. 17/20 | 15/20  18.622489959839356\n",
      "Episode 249 finished. 17/20 | 13/20  18.612\n",
      "Episode 250 finished. 17/20 | 14/20  18.58565737051793\n",
      "Episode 251 finished. 17/20 | 9/20  18.5515873015873\n",
      "Episode 252 finished. 17/20 | 13/20  18.51778656126482\n",
      "Episode 253 finished. 17/20 | 9/20  18.496062992125985\n",
      "Episode 254 finished. 17/20 | 7/20  18.466666666666665\n",
      "Episode 255 finished. 17/20 | 16/20  18.4375\n",
      "Episode 256 finished. 18/20 | 14/20  18.513618677042803\n",
      "Episode 257 finished. 18/20 | 12/20  18.558139534883722\n",
      "Episode 258 finished. 18/20 | 10/20  18.52123552123552\n",
      "Episode 259 finished. 18/20 | 15/20  18.50769230769231\n",
      "Episode 260 finished. 18/20 | 12/20  18.57088122605364\n",
      "Episode 261 finished. 18/20 | 12/20  18.614503816793892\n",
      "Episode 262 finished. 19/20 | 15/20  18.59315589353612\n",
      "Episode 263 finished. 18/20 | 11/20  18.666666666666668\n",
      "Episode 264 finished. 18/20 | 14/20  18.641509433962263\n",
      "Episode 265 finished. 17/20 | 12/20  18.601503759398497\n",
      "Episode 266 finished. 16/20 | 12/20  18.56179775280899\n",
      "Episode 267 finished. 16/20 | 9/20  18.526119402985074\n",
      "Episode 268 finished. 16/20 | 12/20  18.490706319702603\n",
      "Episode 269 finished. 16/20 | 13/20  18.496296296296297\n",
      "Episode 270 finished. 16/20 | 10/20  18.468634686346864\n",
      "Episode 271 finished. 16/20 | 13/20  18.441176470588236\n",
      "Episode 272 finished. 16/20 | 9/20  18.417582417582416\n",
      "Episode 273 finished. 16/20 | 11/20  18.419708029197082\n",
      "Episode 274 finished. 16/20 | 17/20  18.42909090909091\n",
      "Episode 275 finished. 16/20 | 11/20  18.405797101449274\n",
      "Episode 276 finished. 16/20 | 12/20  18.422382671480143\n",
      "Episode 277 finished. 16/20 | 12/20  18.41007194244604\n",
      "Episode 278 finished. 16/20 | 11/20  18.379928315412187\n",
      "Episode 279 finished. 16/20 | 14/20  18.34642857142857\n",
      "Episode 280 finished. 15/20 | 15/20  18.419928825622776\n",
      "Episode 281 finished. 15/20 | 13/20  18.45744680851064\n",
      "Episode 282 finished. 14/20 | 15/20  18.434628975265017\n",
      "Episode 283 finished. 15/20 | 14/20  18.41549295774648\n",
      "Episode 284 finished. 14/20 | 12/20  18.442105263157895\n",
      "Episode 285 finished. 15/20 | 10/20  18.426573426573427\n",
      "Episode 286 finished. 15/20 | 10/20  18.390243902439025\n",
      "Episode 287 finished. 14/20 | 13/20  18.364583333333332\n",
      "Episode 288 finished. 14/20 | 14/20  18.397923875432525\n",
      "Episode 289 finished. 13/20 | 13/20  18.372413793103448\n",
      "Episode 290 finished. 13/20 | 12/20  18.388316151202748\n",
      "Episode 291 finished. 13/20 | 13/20  18.36986301369863\n",
      "Episode 292 finished. 13/20 | 12/20  18.341296928327644\n",
      "Episode 293 finished. 12/20 | 12/20  18.312925170068027\n",
      "Episode 294 finished. 12/20 | 12/20  18.328813559322032\n",
      "Episode 295 finished. 11/20 | 12/20  18.29054054054054\n",
      "Episode 296 finished. 11/20 | 13/20  18.25925925925926\n",
      "Episode 297 finished. 10/20 | 12/20  18.23489932885906\n",
      "Episode 298 finished. 10/20 | 12/20  18.210702341137125\n",
      "Episode 299 finished. 10/20 | 11/20  18.186666666666667\n",
      "Episode 300 finished. 11/20 | 11/20  18.159468438538205\n",
      "Episode 301 finished. 10/20 | 11/20  18.129139072847682\n",
      "Episode 302 finished. 11/20 | 14/20  18.17161716171617\n",
      "Episode 303 finished. 11/20 | 12/20  18.138157894736842\n",
      "Episode 304 finished. 11/20 | 13/20  18.147540983606557\n"
     ]
    }
   ],
   "source": [
    "if torch.cuda.is_available() or torch.backends.mps.is_available():\n",
    "\tnum_episodes = 600\n",
    "else:\n",
    "\tnum_episodes = 50\n",
    "\t\n",
    "our_sign = -1\n",
    "memory: list[TransitionRecord] = []\n",
    "\n",
    "win_rate = []\n",
    "number_of_steps = []\n",
    "\n",
    "# enemy = RandomPlayer(random.randint(0, 1000))\n",
    "q_enemy = QLearning(\"dqn80.pth\")\n",
    "random_enemy = RandomPlayer(random.randint(0, 1000))\n",
    "\n",
    "max_score = 0\n",
    "backup = None\n",
    "\n",
    "for i_episode in range(num_episodes):\n",
    "\tfor enemy in [random_enemy]:\n",
    "\t\tcur_state = Board()\n",
    "\t\tcur_state.make_move(*enemy.decide_move(cur_state))\n",
    "\t\tnum_steps = 0\n",
    "\t\twhile True:\n",
    "\t\t\tnum_steps += 1\n",
    "\t\t\taction = select_action(cur_state)\n",
    "\t\t\tnew_state, immediate_reward = make_environment_step(cur_state, action.action, enemy)\n",
    "\n",
    "\t\t\tmemory.append(TransitionRecord(cur_state, new_state, torch.tensor([immediate_reward], device=device)))\n",
    "\t\t\tcur_state = new_state\n",
    "\n",
    "\t\t\tif cur_state.game_state != GameState.NOT_OVER:\n",
    "\t\t\t\twin_rate.append(cur_state.game_state == GameState(our_sign))\n",
    "\t\t\t\tbreak\n",
    "\n",
    "\t\t# Perform one step of the optimization (on the policy network)\n",
    "\t\toptimize_model(memory)\n",
    "\t\t# Soft update of the target network's weights\n",
    "\t\t# θ′ ← τ θ + (1 −τ )θ′\n",
    "\t\ttarget_net_state_dict = target_net.state_dict()\n",
    "\t\tpolicy_net_state_dict = policy_net.state_dict()\n",
    "\t\tfor key in policy_net_state_dict:\n",
    "\t\t\ttarget_net_state_dict[key] = policy_net_state_dict[key]*TAU + target_net_state_dict[key]*(1-TAU)\n",
    "\t\ttarget_net.load_state_dict(target_net_state_dict)\n",
    "\n",
    "\tnumber_of_steps.append(num_steps)\n",
    "\tstats = [run_game(target_net) for _ in range(20)]\n",
    "\ta = sum(win_rate[-20:])\n",
    "\tb = sum(x > 0 for x in stats)\n",
    "\n",
    "\tif a * b > max_score:\n",
    "\t\tmax_score = a * b\n",
    "\t\tbackup = copy.deepcopy(target_net)\n",
    "\n",
    "\tprint(f\"Episode {i_episode} finished. {a}/{20} | {b}/20  {sum(number_of_steps)/len(number_of_steps)}\")\n",
    "\n",
    "print('Complete')"
   ]
  },
  {
   "cell_type": "code",
   "execution_count": 44,
   "metadata": {},
   "outputs": [
    {
     "data": {
      "text/plain": [
       "0.6966666666666667"
      ]
     },
     "execution_count": 44,
     "metadata": {},
     "output_type": "execute_result"
    }
   ],
   "source": [
    "sum(win_rate) / len(win_rate)"
   ]
  },
  {
   "cell_type": "code",
   "execution_count": 12,
   "metadata": {},
   "outputs": [
    {
     "data": {
      "text/plain": [
       "600"
      ]
     },
     "execution_count": 12,
     "metadata": {},
     "output_type": "execute_result"
    }
   ],
   "source": [
    "len(win_rate)"
   ]
  },
  {
   "cell_type": "code",
   "execution_count": 13,
   "metadata": {},
   "outputs": [
    {
     "data": {
      "text/plain": [
       "412"
      ]
     },
     "execution_count": 13,
     "metadata": {},
     "output_type": "execute_result"
    }
   ],
   "source": [
    "sum(win_rate)"
   ]
  },
  {
   "cell_type": "code",
   "execution_count": 21,
   "metadata": {},
   "outputs": [
    {
     "data": {
      "text/plain": [
       "np.int64(112)"
      ]
     },
     "execution_count": 21,
     "metadata": {},
     "output_type": "execute_result"
    }
   ],
   "source": [
    "max_score"
   ]
  },
  {
   "cell_type": "code",
   "execution_count": 9,
   "metadata": {},
   "outputs": [],
   "source": [
    "from matplotlib import pyplot as plt"
   ]
  },
  {
   "cell_type": "code",
   "execution_count": 15,
   "metadata": {},
   "outputs": [
    {
     "data": {
      "text/plain": [
       "(np.int64(649), 1000)"
      ]
     },
     "execution_count": 15,
     "metadata": {},
     "output_type": "execute_result"
    },
    {
     "data": {
      "image/png": "[encoded data removed]",
      "text/plain": [
       "<Figure size 640x480 with 1 Axes>"
      ]
     },
     "metadata": {},
     "output_type": "display_data"
    }
   ],
   "source": [
    "stats = [run_game(target_net) for _ in range(1000)]\n",
    "\n",
    "plt.hist(stats)\n",
    "sum(x > 0 for x in stats), len(stats)"
   ]
  },
  {
   "cell_type": "code",
   "execution_count": null,
   "metadata": {},
   "outputs": [
    {
     "data": {
      "text/plain": [
       "(np.int64(784), 1000)"
      ]
     },
     "execution_count": 16,
     "metadata": {},
     "output_type": "execute_result"
    },
    {
     "data": {
      "image/png": "[encoded data removed]",
      "text/plain": [
       "<Figure size 640x480 with 1 Axes>"
      ]
     },
     "metadata": {},
     "output_type": "display_data"
    }
   ],
   "source": [
    "assert backup\n",
    "stats = [run_game(backup) for _ in range(1000)]\n",
    "\n",
    "plt.hist(stats)\n",
    "sum(x > 0 for x in stats), len(stats)"
   ]
  },
  {
   "cell_type": "code",
   "execution_count": 24,
   "metadata": {},
   "outputs": [],
   "source": [
    "torch.save(policy_net.state_dict(), \"~dqn83 90 50 20 1.pth\")"
   ]
  },
  {
   "cell_type": "code",
   "execution_count": 22,
   "metadata": {},
   "outputs": [
    {
     "name": "stderr",
     "output_type": "stream",
     "text": [
      "C:\\Users\\mario\\AppData\\Local\\Temp\\ipykernel_298380\\3683910068.py:2: FutureWarning: You are using `torch.load` with `weights_only=False` (the current default value), which uses the default pickle module implicitly. It is possible to construct malicious pickle data which will execute arbitrary code during unpickling (See https://github.com/pytorch/pytorch/blob/main/SECURITY.md#untrusted-models for more details). In a future release, the default value for `weights_only` will be flipped to `True`. This limits the functions that could be executed during unpickling. Arbitrary objects will no longer be allowed to be loaded via this mode unless they are explicitly allowlisted by the user via `torch.serialization.add_safe_globals`. We recommend you start setting `weights_only=True` for any use case where you don't have full control of the loaded file. Please open an issue on GitHub for any issues related to this experimental feature.\n",
      "  test_net.load_state_dict(torch.load(\"90_52_1_9130.pth\"))\n"
     ]
    },
    {
     "data": {
      "text/plain": [
       "<All keys matched successfully>"
      ]
     },
     "execution_count": 22,
     "metadata": {},
     "output_type": "execute_result"
    }
   ],
   "source": [
    "test_net = DQN([90, 52, 1])\n",
    "test_net.load_state_dict(torch.load(\"90_52_1_9130.pth\"))"
   ]
  },
  {
   "cell_type": "code",
   "execution_count": 25,
   "metadata": {},
   "outputs": [
    {
     "data": {
      "text/plain": [
       "(np.int64(7876), 10000)"
      ]
     },
     "execution_count": 25,
     "metadata": {},
     "output_type": "execute_result"
    },
    {
     "data": {
      "image/png": "[encoded data removed]",
      "text/plain": [
       "<Figure size 640x480 with 1 Axes>"
      ]
     },
     "metadata": {},
     "output_type": "display_data"
    }
   ],
   "source": [
    "stats = [run_game(test_net) for _ in range(10000)]\n",
    "\n",
    "plt.hist(stats)\n",
    "sum(x > 0 for x in stats), len(stats)"
   ]
  },
  {
   "cell_type": "code",
   "execution_count": 44,
   "metadata": {},
   "outputs": [
    {
     "name": "stderr",
     "output_type": "stream",
     "text": [
      "C:\\Users\\mario\\AppData\\Local\\Temp\\ipykernel_298380\\2804359530.py:2: FutureWarning: You are using `torch.load` with `weights_only=False` (the current default value), which uses the default pickle module implicitly. It is possible to construct malicious pickle data which will execute arbitrary code during unpickling (See https://github.com/pytorch/pytorch/blob/main/SECURITY.md#untrusted-models for more details). In a future release, the default value for `weights_only` will be flipped to `True`. This limits the functions that could be executed during unpickling. Arbitrary objects will no longer be allowed to be loaded via this mode unless they are explicitly allowlisted by the user via `torch.serialization.add_safe_globals`. We recommend you start setting `weights_only=True` for any use case where you don't have full control of the loaded file. Please open an issue on GitHub for any issues related to this experimental feature.\n",
      "  test_net.load_state_dict(torch.load(\"dqn86 90 50 50 1.pth\"))\n"
     ]
    },
    {
     "data": {
      "text/plain": [
       "(np.int64(83), 100)"
      ]
     },
     "execution_count": 44,
     "metadata": {},
     "output_type": "execute_result"
    },
    {
     "data": {
      "image/png": "[encoded data removed]",
      "text/plain": [
       "<Figure size 640x480 with 1 Axes>"
      ]
     },
     "metadata": {},
     "output_type": "display_data"
    }
   ],
   "source": [
    "test_net = DQN([90, 50, 50, 1])\n",
    "test_net.load_state_dict(torch.load(\"dqn86 90 50 50 1.pth\"))\n",
    "\n",
    "stats = [run_game(test_net) for _ in range(100)]\n",
    "\n",
    "plt.hist(stats)\n",
    "sum(x > 0 for x in stats), len(stats)"
   ]
  },
  {
   "cell_type": "code",
   "execution_count": 28,
   "metadata": {},
   "outputs": [
    {
     "data": {
      "text/plain": [
       "(np.int64(7736), 10000)"
      ]
     },
     "execution_count": 28,
     "metadata": {},
     "output_type": "execute_result"
    },
    {
     "data": {
      "image/png": "[encoded data removed]",
      "text/plain": [
       "<Figure size 640x480 with 1 Axes>"
      ]
     },
     "metadata": {},
     "output_type": "display_data"
    }
   ],
   "source": [
    "stats = [run_game(test_net) for _ in range(10000)]\n",
    "\n",
    "plt.hist(stats)\n",
    "sum(x > 0 for x in stats), len(stats)"
   ]
  },
  {
   "cell_type": "code",
   "execution_count": 37,
   "metadata": {},
   "outputs": [
    {
     "name": "stderr",
     "output_type": "stream",
     "text": [
      "C:\\Users\\mario\\AppData\\Local\\Temp\\ipykernel_298380\\2242954577.py:2: FutureWarning: You are using `torch.load` with `weights_only=False` (the current default value), which uses the default pickle module implicitly. It is possible to construct malicious pickle data which will execute arbitrary code during unpickling (See https://github.com/pytorch/pytorch/blob/main/SECURITY.md#untrusted-models for more details). In a future release, the default value for `weights_only` will be flipped to `True`. This limits the functions that could be executed during unpickling. Arbitrary objects will no longer be allowed to be loaded via this mode unless they are explicitly allowlisted by the user via `torch.serialization.add_safe_globals`. We recommend you start setting `weights_only=True` for any use case where you don't have full control of the loaded file. Please open an issue on GitHub for any issues related to this experimental feature.\n",
      "  test_net.load_state_dict(torch.load(\"90_52_1_9130.pth\"))\n"
     ]
    },
    {
     "data": {
      "text/plain": [
       "(np.int64(1000), 1000)"
      ]
     },
     "execution_count": 37,
     "metadata": {},
     "output_type": "execute_result"
    },
    {
     "data": {
      "image/png": "[encoded data removed]",
      "text/plain": [
       "<Figure size 640x480 with 1 Axes>"
      ]
     },
     "metadata": {},
     "output_type": "display_data"
    }
   ],
   "source": [
    "test_net = DQN([90, 52, 1])\n",
    "test_net.load_state_dict(torch.load(\"90_52_1_9130.pth\"))\n",
    "\n",
    "enemy_net = QLearning(\n",
    "    model_path=\"dqn86 90 50 50 1.pth\"\n",
    ")\n",
    "\n",
    "stats = [run_game(test_net, enemy_net) for _ in range(1000)]\n",
    "\n",
    "plt.hist(stats)\n",
    "sum(x > 0 for x in stats), len(stats)"
   ]
  }
 ],
 "metadata": {
  "kernelspec": {
   "display_name": "Python 3",
   "language": "python",
   "name": "python3"
  },
  "language_info": {
   "codemirror_mode": {
    "name": "ipython",
    "version": 3
   },
   "file_extension": ".py",
   "mimetype": "text/x-python",
   "name": "python",
   "nbconvert_exporter": "python",
   "pygments_lexer": "ipython3",
   "version": "3.10.16"
  }
 },
 "nbformat": 4,
 "nbformat_minor": 2
}
